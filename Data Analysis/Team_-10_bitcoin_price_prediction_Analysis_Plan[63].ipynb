{
 "cells": [
  {
   "cell_type": "markdown",
   "id": "178613c1",
   "metadata": {},
   "source": [
    "# Data and Analysis Plan: Bitcoin Price Prediction\n",
    "## Team -10\n",
    "\n",
    "- Josh Hill (hill.jos@northeastern.edu)\n",
    "- Jingkai Wang (wang.jingkai@northeastern.edu)\n",
    "- Lijun Zhang (zhang.liju@northeastern.edu)\n",
    "- Victor Zheng (zheng.vic@northeastern.edu)"
   ]
  },
  {
   "cell_type": "markdown",
   "id": "1b02c395",
   "metadata": {},
   "source": [
    "## Central Motivation\n",
    "\n",
    "The objective of this project is to establish a relationship between Bitcoin's price changes and the daily sentiment about Bitcoin based on Bitcoin related tweets."
   ]
  },
  {
   "cell_type": "markdown",
   "id": "a12f8d06",
   "metadata": {},
   "source": [
    "Our first dataset, [Cryptocurrency Historical Prices](https://www.kaggle.com/datasets/sudalairajkumar/cryptocurrencypricehistory), consists of daily Bitcoin pricing information for the period of 04-29-2013 to 07-06-2021:\n",
    "\n",
    "- High (highest price coin sold for the day)\n",
    "- Low (lowest price coin sold for the day)\n",
    "- Open (price a coin first trades with for that day)\n",
    "- Closing (price a coin last trades with for that day)\n",
    "- Volume (# of coins traded for that day)\n",
    "- Marketcap (the total dollar-value of all the coins OR (price * total supply of bitcoins))\n",
    "- Date\n",
    "\n",
    "However, we will only use the `Open`, `Close`, `Volume`, `Date`, and `Marketcap` metrics."
   ]
  },
  {
   "cell_type": "markdown",
   "id": "8a252da4",
   "metadata": {},
   "source": [
    "## Data \n",
    "\n",
    "![bitcoin](https://i.ibb.co/0hSXXzY/2022-11-04-19-17-40.png)\n",
    "\n",
    "We will use [Kaggle Bitcoin data](https://www.kaggle.com/datasets/sudalairajkumar/cryptocurrencypricehistory) and analyze the bitcoin price over 2013 to 2021. \n",
    "![The data shows here](https://i.ibb.co/jz0xGb3/2022-11-04-18-10-48.png)\n",
    "\n",
    "This is downloaded as an sns file, so we need to use `pandas` and `numpy` to read the file.\n",
    "- `pd.read_csv()`\n",
    "- `import pandas as pd`\n",
    "- `import numpy as np`\n",
    "\n",
    "For the Bitcoin Data, we only need `Date`, `Open`, `Close`,`Volume` and `Marketcap` column, we use `df.drop()`to delete other data. The column `Date` will be an index and make the analyze more easier.\n",
    "\n",
    "To make it simpler to manage the data frame as a time series object, the dates column of the dataset will be converted into an index, thus we can sort by the datetime.\n",
    "- `parse_dates=True`\n",
    "The `Date` will be an index and can call the `Date` value by `df.index`.\n",
    "\n",
    "In this way, we change the csv.file only contain the variables we need, and can plot it quickly."
   ]
  },
  {
   "cell_type": "code",
   "execution_count": 1,
   "id": "8bbf0376",
   "metadata": {},
   "outputs": [],
   "source": [
    "import pandas as pd\n",
    "import numpy as np\n",
    "import seaborn as sns\n",
    "import matplotlib.pyplot as plt"
   ]
  },
  {
   "cell_type": "code",
   "execution_count": 2,
   "id": "a9577f83",
   "metadata": {},
   "outputs": [],
   "source": [
    "# access the data set from coin_Bitcoin.csv\n",
    "df = pd.read_csv('coin_Bitcoin.csv', index_col = ['Date'], parse_dates=True)\n",
    "\n",
    "# Clean the dataset and only remain the data need\n",
    "df = df.drop(['SNo', 'Name', 'Symbol', 'High', 'Low'], axis=1) "
   ]
  },
  {
   "cell_type": "code",
   "execution_count": 3,
   "id": "b3379809",
   "metadata": {},
   "outputs": [
    {
     "data": {
      "text/html": [
       "<div>\n",
       "<style scoped>\n",
       "    .dataframe tbody tr th:only-of-type {\n",
       "        vertical-align: middle;\n",
       "    }\n",
       "\n",
       "    .dataframe tbody tr th {\n",
       "        vertical-align: top;\n",
       "    }\n",
       "\n",
       "    .dataframe thead th {\n",
       "        text-align: right;\n",
       "    }\n",
       "</style>\n",
       "<table border=\"1\" class=\"dataframe\">\n",
       "  <thead>\n",
       "    <tr style=\"text-align: right;\">\n",
       "      <th></th>\n",
       "      <th>Open</th>\n",
       "      <th>Close</th>\n",
       "      <th>Volume</th>\n",
       "      <th>Marketcap</th>\n",
       "    </tr>\n",
       "    <tr>\n",
       "      <th>Date</th>\n",
       "      <th></th>\n",
       "      <th></th>\n",
       "      <th></th>\n",
       "      <th></th>\n",
       "    </tr>\n",
       "  </thead>\n",
       "  <tbody>\n",
       "    <tr>\n",
       "      <th>2013-04-29 23:59:59</th>\n",
       "      <td>134.444000</td>\n",
       "      <td>144.539993</td>\n",
       "      <td>0.0</td>\n",
       "      <td>1.603769e+09</td>\n",
       "    </tr>\n",
       "    <tr>\n",
       "      <th>2013-04-30 23:59:59</th>\n",
       "      <td>144.000000</td>\n",
       "      <td>139.000000</td>\n",
       "      <td>0.0</td>\n",
       "      <td>1.542813e+09</td>\n",
       "    </tr>\n",
       "    <tr>\n",
       "      <th>2013-05-01 23:59:59</th>\n",
       "      <td>139.000000</td>\n",
       "      <td>116.989998</td>\n",
       "      <td>0.0</td>\n",
       "      <td>1.298955e+09</td>\n",
       "    </tr>\n",
       "    <tr>\n",
       "      <th>2013-05-02 23:59:59</th>\n",
       "      <td>116.379997</td>\n",
       "      <td>105.209999</td>\n",
       "      <td>0.0</td>\n",
       "      <td>1.168517e+09</td>\n",
       "    </tr>\n",
       "    <tr>\n",
       "      <th>2013-05-03 23:59:59</th>\n",
       "      <td>106.250000</td>\n",
       "      <td>97.750000</td>\n",
       "      <td>0.0</td>\n",
       "      <td>1.085995e+09</td>\n",
       "    </tr>\n",
       "  </tbody>\n",
       "</table>\n",
       "</div>"
      ],
      "text/plain": [
       "                           Open       Close  Volume     Marketcap\n",
       "Date                                                             \n",
       "2013-04-29 23:59:59  134.444000  144.539993     0.0  1.603769e+09\n",
       "2013-04-30 23:59:59  144.000000  139.000000     0.0  1.542813e+09\n",
       "2013-05-01 23:59:59  139.000000  116.989998     0.0  1.298955e+09\n",
       "2013-05-02 23:59:59  116.379997  105.209999     0.0  1.168517e+09\n",
       "2013-05-03 23:59:59  106.250000   97.750000     0.0  1.085995e+09"
      ]
     },
     "execution_count": 3,
     "metadata": {},
     "output_type": "execute_result"
    }
   ],
   "source": [
    "# show the dataframe\n",
    "df.head()"
   ]
  },
  {
   "cell_type": "code",
   "execution_count": 4,
   "id": "d586b6ee",
   "metadata": {
    "scrolled": true
   },
   "outputs": [
    {
     "data": {
      "text/plain": [
       "DatetimeIndex(['2013-04-29 23:59:59', '2013-04-30 23:59:59',\n",
       "               '2013-05-01 23:59:59', '2013-05-02 23:59:59',\n",
       "               '2013-05-03 23:59:59', '2013-05-04 23:59:59',\n",
       "               '2013-05-05 23:59:59', '2013-05-06 23:59:59',\n",
       "               '2013-05-07 23:59:59', '2013-05-08 23:59:59',\n",
       "               ...\n",
       "               '2021-06-27 23:59:59', '2021-06-28 23:59:59',\n",
       "               '2021-06-29 23:59:59', '2021-06-30 23:59:59',\n",
       "               '2021-07-01 23:59:59', '2021-07-02 23:59:59',\n",
       "               '2021-07-03 23:59:59', '2021-07-04 23:59:59',\n",
       "               '2021-07-05 23:59:59', '2021-07-06 23:59:59'],\n",
       "              dtype='datetime64[ns]', name='Date', length=2991, freq=None)"
      ]
     },
     "execution_count": 4,
     "metadata": {},
     "output_type": "execute_result"
    }
   ],
   "source": [
    "# The index of the Data\n",
    "df.index"
   ]
  },
  {
   "cell_type": "markdown",
   "id": "f21058a3",
   "metadata": {},
   "source": [
    "### Kaggle Bitcoin Tweets Dataset"
   ]
  },
  {
   "cell_type": "markdown",
   "id": "ca462a9e",
   "metadata": {},
   "source": [
    "Our second dataset is [Kaggle Bitcoin Tweets - 16M Tweets](https://www.kaggle.com/datasets/alaix14/bitcoin-tweets-20160101-to-20190329). It has the following data for all tweets inlcuding \"Bitcoin\" or \"BTC\" for the period of 04-29-2013 to 07-06-2021:\n",
    "\n",
    "- id (id of the tweet)\n",
    "- user (twitter username of the author)\n",
    "- fullname (fullname of the user)\n",
    "- url (tweet URL, usually missing)\n",
    "- timestamp (date and time of tweet)\n",
    "- replies (number of replies to the tweet)\n",
    "- likes (number of likes)\n",
    "- retweets (number of retweets)\n",
    "- text (text of the tweet)\n",
    "\n",
    "![The data shows here](https://i.ibb.co/cL2cc81/Screenshot-2022-11-04-194347.png)"
   ]
  },
  {
   "cell_type": "markdown",
   "id": "d4684724",
   "metadata": {},
   "source": [
    "This is downloaded as an csv file, so we need to use `pandas` and `numpy` to read the file.\n",
    "- `pd.read_csv()`\n",
    "- `import pandas as pd`\n",
    "- `import numpy as np`\n",
    "\n",
    "For the Tweet data, we will use the `Timestamp`,`Likes`,`Replies`, `Retweets,` and `Text,` columns, and we will use `df.drop()`to delete other data. The `Timestamp` column will be altered to only include dates, and be used as an index to aid in analysis."
   ]
  },
  {
   "cell_type": "markdown",
   "id": "4bce5d74",
   "metadata": {},
   "source": [
    "We are currently working on a method of splitting this data set, as it is 4 gigabytes and has proved relatively impossible to work with at this size (it has 16 million rows). Rather than operating on the entire 8 years of data, we will likely work with just a week or month of tweets.\n",
    "\n",
    "We plan to aggregate like counts, retweets, and replies to tweets along with the tweet's sentiment (positive, negative, neutral) for a given day. This would yield us with a total sentiment score regarding Bitcoin for a certain day. We would then be able to compare this score with the price change from `Open` to `Close` for that day, and using machine learning to determine the impact of Twitter sentiment on Bitcoin's price."
   ]
  },
  {
   "cell_type": "markdown",
   "id": "e56fb609",
   "metadata": {},
   "source": [
    "## Visualizations\n"
   ]
  },
  {
   "cell_type": "markdown",
   "id": "74c4b039",
   "metadata": {},
   "source": [
    "### Bitcoin Price Over Time"
   ]
  },
  {
   "cell_type": "code",
   "execution_count": 5,
   "id": "abef678d",
   "metadata": {},
   "outputs": [
    {
     "data": {
      "image/png": "[encoded data removed]",
      "text/plain": [
       "<Figure size 720x432 with 1 Axes>"
      ]
     },
     "metadata": {
      "needs_background": "light"
     },
     "output_type": "display_data"
    }
   ],
   "source": [
    "# Make a line plot to make it easier to see any trends of the Bitcoin Closing \n",
    "# prices.\n",
    "plt.plot(df.index, df.loc[:, 'Close'], label = 'Price of Bitcoin')\n",
    "\n",
    "# set the font size \n",
    "sns.set(font_scale=1.3)\n",
    "\n",
    "# Set the title, labels, and size of the graph\n",
    "plt.title('Bitcoin Closing Price through time')\n",
    "plt.xlabel('Years')\n",
    "plt.ylabel('Closing Price in USD')\n",
    "plt.gcf().set_size_inches(10, 6)\n",
    "plt.legend()\n",
    "plt.show()"
   ]
  },
  {
   "cell_type": "markdown",
   "id": "8f88d3cf",
   "metadata": {},
   "source": [
    "**The line graph show that the Bitcoin had positive growth over the past 10 years. Until 2017, though, its growth was very slow. But in mid-2017, there was a huge increase in prices. But that trend has changed in 2018. Prices continued to fall in 2018 and into 2019. The volatility has continued into 2020 and 2021, with even greater gains and losses.**\n",
    "\n",
    "**The sentiment towards Bitcoin has changed a lot over time, and this is reflected in the massive fluctuations in price. Since Bitcoin is not tied to any real world asset, it's price is based entirely on people's perception of its expected future price.**"
   ]
  },
  {
   "cell_type": "markdown",
   "id": "2ea3eb90",
   "metadata": {},
   "source": [
    "### Change in Price Per Day"
   ]
  },
  {
   "cell_type": "code",
   "execution_count": 6,
   "id": "5f8e815e",
   "metadata": {
    "scrolled": true
   },
   "outputs": [],
   "source": [
    "# calculate the daily % change in Bitcoin's price\n",
    "percent_price_change = 100 * (df['Open'] - df['Close']) / df['Open']"
   ]
  },
  {
   "cell_type": "code",
   "execution_count": 7,
   "id": "58de4b29",
   "metadata": {},
   "outputs": [
    {
     "data": {
      "text/plain": [
       "([<matplotlib.axis.XTick at 0x21f73ee6e50>,\n",
       "  <matplotlib.axis.XTick at 0x21f73ee6eb0>,\n",
       "  <matplotlib.axis.XTick at 0x21f73ee6040>,\n",
       "  <matplotlib.axis.XTick at 0x21f73f0fd90>,\n",
       "  <matplotlib.axis.XTick at 0x21f737e2580>,\n",
       "  <matplotlib.axis.XTick at 0x21f737e2e50>,\n",
       "  <matplotlib.axis.XTick at 0x21f737e2e80>,\n",
       "  <matplotlib.axis.XTick at 0x21f737b1fa0>,\n",
       "  <matplotlib.axis.XTick at 0x21f73841a90>,\n",
       "  <matplotlib.axis.XTick at 0x21f73841c40>,\n",
       "  <matplotlib.axis.XTick at 0x21f7387fb50>,\n",
       "  <matplotlib.axis.XTick at 0x21f740cf3a0>],\n",
       " [Text(0, 0, ''),\n",
       "  Text(0, 0, ''),\n",
       "  Text(0, 0, ''),\n",
       "  Text(0, 0, ''),\n",
       "  Text(0, 0, ''),\n",
       "  Text(0, 0, ''),\n",
       "  Text(0, 0, ''),\n",
       "  Text(0, 0, ''),\n",
       "  Text(0, 0, ''),\n",
       "  Text(0, 0, ''),\n",
       "  Text(0, 0, ''),\n",
       "  Text(0, 0, '')])"
      ]
     },
     "execution_count": 7,
     "metadata": {},
     "output_type": "execute_result"
    },
    {
     "data": {
      "image/png": "[encoded data removed]",
      "text/plain": [
       "<Figure size 720x432 with 1 Axes>"
      ]
     },
     "metadata": {},
     "output_type": "display_data"
    }
   ],
   "source": [
    "# create a histogram of bitcoin price change per day\n",
    "# Set title, labels, xticks, and bins\n",
    "bins = np.linspace(-15, 16, 16)\n",
    "plt.hist(percent_price_change, bins)\n",
    "plt.title('Bitcoin % Price Change Per Day')\n",
    "plt.ylabel('Number of Days')\n",
    "plt.xlabel('% Change in Price')\n",
    "plt.gcf().set_size_inches(10, 6)\n",
    "\n",
    "xticks = np.arange(-15, 15, step=2.5)\n",
    "plt.xticks(xticks)"
   ]
  },
  {
   "cell_type": "code",
   "execution_count": 8,
   "id": "589588b7",
   "metadata": {},
   "outputs": [
    {
     "name": "stdout",
     "output_type": "stream",
     "text": [
      "Highest % increase: 37.1868984110972\n",
      "Highest % decrease: -41.681102054685205\n"
     ]
    }
   ],
   "source": [
    "# calculate highest price increase\n",
    "max_gain = percent_price_change.max()\n",
    "\n",
    "# calculate highest price decrease\n",
    "max_loss = percent_price_change.min()\n",
    "\n",
    "print(f'Highest % increase: {max_gain}\\nHighest % decrease: {max_loss}')"
   ]
  },
  {
   "cell_type": "markdown",
   "id": "f3f7a845",
   "metadata": {},
   "source": [
    "**The Normal Distribution above shows distribution of Bitcoin's price change per day. While Bitcoin is thought of as an extremely volatile currency, on the vast majority of days it actually experiences relatively minor fluctuations in price.**\n",
    "\n",
    "**It's worth noting, however, that certain extreme outliers are not shown on this graph. On its worst day, Bitcoin lost about 42% of its value, and on its best day, it gained 37% more value. We may need to take this into account when selecting a timeframe of Bitcoin tweet data, because selecting a timeframe with one of these extreme outliers could result in an inaccurate model.**"
   ]
  },
  {
   "cell_type": "markdown",
   "id": "08a8610e",
   "metadata": {},
   "source": [
    "## Analysis Plan"
   ]
  },
  {
   "cell_type": "markdown",
   "id": "44f172a0",
   "metadata": {},
   "source": [
    "We will compare our twitter data with fluctuation in Bitcoin price using a random forest regression, and compute a cross validated R^2 value to see if our model can successfully predict fluctuation in Bitcoin’s price. We will use a regression, rather than a classifier, because Bitcoin price is a continuous variable.\n",
    "\n",
    "To create our regression, we will first perform a sentiment analysis of all tweets for a given day. We will classify tweets as having positive, negative, or netural sentiment based on their relative volumes of certain keywords, such as buy, sell, good, bad, etc.\n",
    "\n",
    "Once we have classified our tweets in this manner, we will aggregate the total tweet counts for each sentiment, along with their total likes, retweets, and replies. We will use these metrics as x values in our regression, and the y value will be the % change in Bitcoin's price for each day.\n",
    "\n",
    "Ideally, we will measure a relatively long stretch of time, as this will give our model more data to train on. However, this may prove difficult due to the sheer volume of Bitcoin related tweets per day and our limited computational power.\n",
    "\n",
    "Assumptions required for this problem:\n",
    "\n",
    "- Twitter sentiment is a meaningful indicator of overall Bitcoin sentiment, such that it will be correlated with Bitcoin's price fluctuations.\n",
    "\n",
    "- We will be able to successfully identify the sentiments of bitcoin related tweets (this will be very difficult to validate)\n",
    "\n",
    "- Tweet engagement (likes, retweets, and replies) indicates a stronger sentiment in the direction of the given tweet, similar to if more people had posted the same tweet"
   ]
  }
 ],
 "metadata": {
  "kernelspec": {
   "display_name": "Python 3 (ipykernel)",
   "language": "python",
   "name": "python3"
  },
  "language_info": {
   "codemirror_mode": {
    "name": "ipython",
    "version": 3
   },
   "file_extension": ".py",
   "mimetype": "text/x-python",
   "name": "python",
   "nbconvert_exporter": "python",
   "pygments_lexer": "ipython3",
   "version": "3.9.12"
  }
 },
 "nbformat": 4,
 "nbformat_minor": 5
}
