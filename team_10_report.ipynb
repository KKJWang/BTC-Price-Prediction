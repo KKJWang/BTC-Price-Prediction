{
 "cells": [
  {
   "cell_type": "markdown",
   "id": "f5faa7bd",
   "metadata": {},
   "source": [
    "# Bitcoin Price Prediction\n",
    "## Team -10\n",
    "\n",
    "- Josh Hill (hill.jos@northeastern.edu)\n",
    "- Jingkai Wang (wang.jingkai@northeastern.edu)\n",
    "- Lijun Zhang (zhang.liju@northeastern.edu)\n",
    "- Victor Zheng (zheng.vic@northeastern.edu)"
   ]
  },
  {
   "cell_type": "markdown",
   "id": "fcb618d8",
   "metadata": {},
   "source": [
    "# Executive Summary\n",
    "\n",
    "The objective of this project is to establish a relationship between Bitcoin's price changes and the daily sentiment about Bitcoin on Twitter based on Bitcoin related tweets. To establish this relationship, we utilized [Bitcoin's historical price data](#tweets_vs._price_visualization) and a dataset containing [Bitcoin related tweets](#dataset_2). This relationship also takes into consideration the count of retweets, likes, and replies on each tweet. Unfortunately, our machine learning methods [failed](#failed) to successfully predict changes in Bitcoin's price. We suggest that our models are unsuccessful because our [methods of attaining tweet sentiment](#sentiment_analysis) may be faulty, and because the [Bitcoin tweet dataset](#dataset_2) is [potentially incomplete](#incomplete).\n",
    "\n",
    "\n",
    "# Ethical Considerations\n",
    "\n",
    "[Studies](https://www.forbes.com/sites/georgecalhoun/2022/10/11/the-ethics-of-crypto-sorting-out-good-intentions-and-bad-actors/?sh=12382b075c49) indicate that cryptocurrency has some serious ethical issues such as enabling criminal activity and fraud. Bitcoin, as the largest cryptocurrency in the market, is what's usually traded to enable these activities as the transaction cannot be traced. It is also a common concern that cryptocurrency causes a lot of environmental damage, due to the [amount of energy required](https://www.cnet.com/personal-finance/crypto/bitcoin-mining-how-much-electricity-it-takes-and-why-people-are-worried/#:~:text=The%20Digiconomist's%20Bitcoin%20Energy%20Consumption,is%20close%20to%2012%20cents.) for transactions and mining to take place.\n",
    "\n",
    "This tool is meant to provide insights on the fluctuations of cryptocurrencies and the impact of social media. However, it is not meant to act as tool to instruct users what to do with their money. There are limitations to how much impact tweets may have on Bitcoin prices, so this tool can only provide answers for a very small factor of the overall decision making that goes into investing. Furthermore, the tool is not meant to directly promote cryptocurrency trading and serves more as research on the blockchain.\n",
    "\n",
    "\n",
    "# Introduction\n",
    "Cryptocurrencies are not tied to physical assets, so changes in their prices are primarily driven by people's beliefs regarding their value and potential future value. People frequently use social media websites, especially Twitter, to talk in real-time about cryptocurrencies and their future prospects. Therefore, it may be possible to determine a relationship between Bitcoin sentiment on Twitter and fluctuations in Bitcoin's price. Using this relationship, crypto-investers could potentially predict and capitalize on changes in Bitcoin price if they have access to current Bitcoin tweet data. **This project aims to find a causal relationship between daily Bitcoin sentiment on Twitter and daily changes in Bitcoin's price.**\n"
   ]
  },
  {
   "cell_type": "markdown",
   "id": "54bea707",
   "metadata": {},
   "source": [
    "# Data Description"
   ]
  },
  {
   "cell_type": "markdown",
   "id": "079d7032",
   "metadata": {},
   "source": [
    "## Dataset 1: Cryptocurrency Historical Prices\n",
    " [Cryptocurrency Historical Prices](https://www.kaggle.com/datasets/sudalairajkumar/cryptocurrencypricehistory), consists of daily Bitcoin pricing information for the period of 04-29-2013 to 07-06-2021:\n",
    "\n",
    "- High (highest price coin sold for the day)\n",
    "- Low (lowest price coin sold for the day)\n",
    "- Open (price a coin first trades with for that day)\n",
    "- Closing (price a coin last trades with for that day)\n",
    "- Volume (# of coins traded for that day)\n",
    "- Marketcap (the total dollar-value of all the coins, aka price * total supply of bitcoins)\n",
    "- Date\n",
    "\n",
    "However, we will only use the `Open`, `Close`, `Volume`, `Date`, and `Marketcap` metrics."
   ]
  },
  {
   "cell_type": "markdown",
   "id": "f5a82fa0",
   "metadata": {},
   "source": [
    "## Data \n",
    "\n",
    "![bitcoin](https://i.ibb.co/0hSXXzY/2022-11-04-19-17-40.png)\n",
    "\n",
    "[Kaggle Bitcoin Dataset](https://www.kaggle.com/datasets/sudalairajkumar/cryptocurrencypricehistory) \n",
    "![The data shows here](https://i.ibb.co/jz0xGb3/2022-11-04-18-10-48.png)\n",
    "\n",
    "For the Bitcoin Data, we only need `Date`, `Open`, `Close`,`Volume` and `Marketcap` column, we use `df.drop()`to delete other data."
   ]
  },
  {
   "cell_type": "code",
   "execution_count": 1,
   "id": "2e189c51",
   "metadata": {},
   "outputs": [],
   "source": [
    "# import necessary libraries\n",
    "import pandas as pd\n",
    "import numpy as np\n",
    "import seaborn as sns\n",
    "import matplotlib.pyplot as plt"
   ]
  },
  {
   "cell_type": "code",
   "execution_count": 2,
   "id": "36e92e07",
   "metadata": {},
   "outputs": [],
   "source": [
    "# access the data set from coin_Bitcoin.csv\n",
    "df_btc_price = pd.read_csv('coin_Bitcoin.csv', index_col = None)\n",
    "\n",
    "# Clean the dataset by dropping unnecessary columns, lowercase date\n",
    "df_btc_price = df_btc_price.drop(['SNo', 'Name', 'Symbol', 'High', 'Low'], axis=1)\n",
    "df_btc_price = df_btc_price.rename(columns = {'Date': 'date'})\n",
    "\n",
    "# Remove time from Date column\n",
    "df_btc_price['date'] = df_btc_price['date'].str.slice(0,10)"
   ]
  },
  {
   "cell_type": "code",
   "execution_count": 3,
   "id": "9627211b",
   "metadata": {
    "scrolled": true
   },
   "outputs": [
    {
     "data": {
      "text/html": [
       "<div>\n",
       "<style scoped>\n",
       "    .dataframe tbody tr th:only-of-type {\n",
       "        vertical-align: middle;\n",
       "    }\n",
       "\n",
       "    .dataframe tbody tr th {\n",
       "        vertical-align: top;\n",
       "    }\n",
       "\n",
       "    .dataframe thead th {\n",
       "        text-align: right;\n",
       "    }\n",
       "</style>\n",
       "<table border=\"1\" class=\"dataframe\">\n",
       "  <thead>\n",
       "    <tr style=\"text-align: right;\">\n",
       "      <th></th>\n",
       "      <th>date</th>\n",
       "      <th>Open</th>\n",
       "      <th>Close</th>\n",
       "      <th>Volume</th>\n",
       "      <th>Marketcap</th>\n",
       "    </tr>\n",
       "  </thead>\n",
       "  <tbody>\n",
       "    <tr>\n",
       "      <th>0</th>\n",
       "      <td>2013-04-29</td>\n",
       "      <td>134.444000</td>\n",
       "      <td>144.539993</td>\n",
       "      <td>0.0</td>\n",
       "      <td>1.603769e+09</td>\n",
       "    </tr>\n",
       "    <tr>\n",
       "      <th>1</th>\n",
       "      <td>2013-04-30</td>\n",
       "      <td>144.000000</td>\n",
       "      <td>139.000000</td>\n",
       "      <td>0.0</td>\n",
       "      <td>1.542813e+09</td>\n",
       "    </tr>\n",
       "    <tr>\n",
       "      <th>2</th>\n",
       "      <td>2013-05-01</td>\n",
       "      <td>139.000000</td>\n",
       "      <td>116.989998</td>\n",
       "      <td>0.0</td>\n",
       "      <td>1.298955e+09</td>\n",
       "    </tr>\n",
       "    <tr>\n",
       "      <th>3</th>\n",
       "      <td>2013-05-02</td>\n",
       "      <td>116.379997</td>\n",
       "      <td>105.209999</td>\n",
       "      <td>0.0</td>\n",
       "      <td>1.168517e+09</td>\n",
       "    </tr>\n",
       "    <tr>\n",
       "      <th>4</th>\n",
       "      <td>2013-05-03</td>\n",
       "      <td>106.250000</td>\n",
       "      <td>97.750000</td>\n",
       "      <td>0.0</td>\n",
       "      <td>1.085995e+09</td>\n",
       "    </tr>\n",
       "  </tbody>\n",
       "</table>\n",
       "</div>"
      ],
      "text/plain": [
       "         date        Open       Close  Volume     Marketcap\n",
       "0  2013-04-29  134.444000  144.539993     0.0  1.603769e+09\n",
       "1  2013-04-30  144.000000  139.000000     0.0  1.542813e+09\n",
       "2  2013-05-01  139.000000  116.989998     0.0  1.298955e+09\n",
       "3  2013-05-02  116.379997  105.209999     0.0  1.168517e+09\n",
       "4  2013-05-03  106.250000   97.750000     0.0  1.085995e+09"
      ]
     },
     "execution_count": 3,
     "metadata": {},
     "output_type": "execute_result"
    }
   ],
   "source": [
    "df_btc_price.head()"
   ]
  },
  {
   "cell_type": "markdown",
   "id": "34194b1c",
   "metadata": {},
   "source": [
    "## Dataset 2: Kaggle Bitcoin Tweets Dataset\n",
    "<a id='dataset_2'></a>\n",
    "Our second dataset is [Kaggle Bitcoin Tweets - 16M Tweets](https://www.kaggle.com/datasets/alaix14/bitcoin-tweets-20160101-to-20190329). It has the following data for all tweets inlcuding \"Bitcoin\" or \"BTC\" for the period of 2007-04-19 to 2019-11-23:\n",
    "\n",
    "- id (id of the tweet)\n",
    "- user (twitter username of the author)\n",
    "- fullname (fullname of the user)\n",
    "- url (tweet URL, usually missing)\n",
    "- timestamp (date and time of tweet)\n",
    "- replies (number of replies to the tweet)\n",
    "- likes (number of likes)\n",
    "- retweets (number of retweets)\n",
    "- text (text of the tweet)\n",
    "\n",
    "![The data shows here](https://i.ibb.co/cL2cc81/Screenshot-2022-11-04-194347.png)"
   ]
  },
  {
   "cell_type": "markdown",
   "id": "a9b71040",
   "metadata": {},
   "source": [
    "Due to this csv file being so massive, it's not possible to view it in standard programs such as Excel or Notepad. It also returns an unexpected number of values for some rows, meaning it cannot be loaded directly into a Pandas dataframe.\n",
    "\n",
    "To solve this issue, we will read the file into a list instead, and delete the rows with irregular values. Then we will analyze each individual tweet's sentiment score and aggregate the data for each day in a new dataframe. We will also merge this dataframe with our Bitcoin Price dataframe, so that we can view daily price changes alongside daily tweet sentiment."
   ]
  },
  {
   "cell_type": "markdown",
   "id": "ff637605",
   "metadata": {},
   "source": [
    "## % Change in BTC Price Per Day Visualization"
   ]
  },
  {
   "cell_type": "code",
   "execution_count": 4,
   "id": "f2604840",
   "metadata": {},
   "outputs": [],
   "source": [
    "# calculate the daily % change in Bitcoin's price\n",
    "percent_price_change = 100 * (df_btc_price['Open'] - df_btc_price['Close']) / df_btc_price['Open']"
   ]
  },
  {
   "cell_type": "code",
   "execution_count": 5,
   "id": "7fb321ea",
   "metadata": {
    "scrolled": false
   },
   "outputs": [
    {
     "data": {
      "text/plain": [
       "([<matplotlib.axis.XTick at 0x1b3306d0790>,\n",
       "  <matplotlib.axis.XTick at 0x1b3306d0760>,\n",
       "  <matplotlib.axis.XTick at 0x1b3306e6580>,\n",
       "  <matplotlib.axis.XTick at 0x1b330e9efd0>,\n",
       "  <matplotlib.axis.XTick at 0x1b330eb6340>,\n",
       "  <matplotlib.axis.XTick at 0x1b330eb6a90>,\n",
       "  <matplotlib.axis.XTick at 0x1b330ebf220>,\n",
       "  <matplotlib.axis.XTick at 0x1b330ebf970>,\n",
       "  <matplotlib.axis.XTick at 0x1b330ec5100>,\n",
       "  <matplotlib.axis.XTick at 0x1b330ebf550>,\n",
       "  <matplotlib.axis.XTick at 0x1b330eb6310>,\n",
       "  <matplotlib.axis.XTick at 0x1b330ec58e0>],\n",
       " [Text(0, 0, ''),\n",
       "  Text(0, 0, ''),\n",
       "  Text(0, 0, ''),\n",
       "  Text(0, 0, ''),\n",
       "  Text(0, 0, ''),\n",
       "  Text(0, 0, ''),\n",
       "  Text(0, 0, ''),\n",
       "  Text(0, 0, ''),\n",
       "  Text(0, 0, ''),\n",
       "  Text(0, 0, ''),\n",
       "  Text(0, 0, ''),\n",
       "  Text(0, 0, '')])"
      ]
     },
     "execution_count": 5,
     "metadata": {},
     "output_type": "execute_result"
    },
    {
     "data": {
      "image/png": "[encoded data removed]",
      "text/plain": [
       "<Figure size 720x432 with 1 Axes>"
      ]
     },
     "metadata": {},
     "output_type": "display_data"
    }
   ],
   "source": [
    "# create a histogram of bitcoin price change per day\n",
    "# Set title, labels, xticks, and bins\n",
    "sns.set(font_scale = 1.4)\n",
    "bins = np.linspace(-15, 16, 16)\n",
    "plt.hist(percent_price_change, bins)\n",
    "plt.title('Bitcoin % Price Change Per Day')\n",
    "plt.ylabel('Number of Days')\n",
    "plt.xlabel('% Change in Price')\n",
    "plt.gcf().set_size_inches(10, 6)\n",
    "\n",
    "xticks = np.arange(-15, 15, step=2.5)\n",
    "plt.xticks(xticks)"
   ]
  },
  {
   "cell_type": "code",
   "execution_count": 6,
   "id": "89f2c74c",
   "metadata": {},
   "outputs": [
    {
     "name": "stdout",
     "output_type": "stream",
     "text": [
      "Highest % increase: 37.1868984110972\n",
      "Highest % decrease: -41.681102054685205\n"
     ]
    }
   ],
   "source": [
    "# calculate highest price increase\n",
    "max_gain = percent_price_change.max()\n",
    "\n",
    "# calculate highest price decrease\n",
    "max_loss = percent_price_change.min()\n",
    "\n",
    "print(f'Highest % increase: {max_gain}\\nHighest % decrease: {max_loss}')"
   ]
  },
  {
   "cell_type": "markdown",
   "id": "53c5033e",
   "metadata": {},
   "source": [
    "The Normal Distribution above shows distribution of Bitcoin's price change per day. While Bitcoin is considered an extremely volatile currency, on the vast majority of days it actually experiences relatively minor fluctuations in price.\n",
    "\n",
    "Certain extreme outliers are not shown on this graph. On its worst day, Bitcoin lost about 42% of its value, and on its best day, it gained 37% value. This is important to note, since an analysis of Bitcoin's price over a short time frame could yield inaccurate results due to the presence of an extreme outlier."
   ]
  },
  {
   "cell_type": "markdown",
   "id": "d5fa59fd",
   "metadata": {},
   "source": [
    "## Cleaning BTC Tweets Dataset"
   ]
  },
  {
   "cell_type": "code",
   "execution_count": 7,
   "id": "fa013027",
   "metadata": {},
   "outputs": [],
   "source": [
    "import csv\n",
    "import tqdm as tqdm\n",
    "import time\n",
    "from collections import defaultdict"
   ]
  },
  {
   "cell_type": "code",
   "execution_count": 8,
   "id": "d3b199dc",
   "metadata": {},
   "outputs": [],
   "source": [
    "tweets = 'tweets.csv'"
   ]
  },
  {
   "cell_type": "code",
   "execution_count": 9,
   "id": "046730ff",
   "metadata": {},
   "outputs": [],
   "source": [
    "def read_file(filename):\n",
    "    ''' Function: read_file\n",
    "        Parameters: filename (string) for a CSV file\n",
    "        Returns: 2d list of what the file contains, w/o the header\n",
    "    '''\n",
    "    data = []\n",
    "    with open(filename, 'r', encoding = 'utf8') as infile:\n",
    "        csvfile = csv.reader(infile, delimiter = ';')\n",
    "        for row in (csvfile):\n",
    "                data.append(row)\n",
    "    return data"
   ]
  },
  {
   "cell_type": "code",
   "execution_count": 10,
   "id": "f330caca",
   "metadata": {},
   "outputs": [],
   "source": [
    "data = read_file(tweets)"
   ]
  },
  {
   "cell_type": "code",
   "execution_count": 11,
   "id": "4006910c",
   "metadata": {},
   "outputs": [],
   "source": [
    "data_test = data.copy()"
   ]
  },
  {
   "cell_type": "code",
   "execution_count": 12,
   "id": "3020e379",
   "metadata": {},
   "outputs": [
    {
     "data": {
      "text/plain": [
       "801"
      ]
     },
     "execution_count": 12,
     "metadata": {},
     "output_type": "execute_result"
    }
   ],
   "source": [
    "# normal tweets have 9 associated values\n",
    "# find total # of tweets with incorrect number of values\n",
    "weird_values_total = []\n",
    "for i in range(len(data)):\n",
    "    if len(data[i]) != 9:\n",
    "        weird_values_total.append(i)\n",
    "        \n",
    "len(weird_values_total)"
   ]
  },
  {
   "cell_type": "markdown",
   "id": "936f3a24",
   "metadata": {},
   "source": [
    "801 values is insignificant given the scale of our dataset, so these can simply be removed."
   ]
  },
  {
   "cell_type": "code",
   "execution_count": 13,
   "id": "b8a53f69",
   "metadata": {},
   "outputs": [],
   "source": [
    "weird_values = []\n",
    "# get values of all weird_values\n",
    "for i in range(len(data_test) - len(weird_values_total)):\n",
    "    if len(data_test[i]) != 9:\n",
    "        weird_values.append(data_test[i])\n",
    "\n",
    "# check that correct # of values were found\n",
    "assert(len(weird_values)) == len(weird_values_total)\n",
    "\n",
    "# remove weird values from data_test\n",
    "for value in weird_values:\n",
    "    data_test.remove(value)\n",
    "    \n",
    "# check that correct # of values were removed\n",
    "assert(len(data_test) == len(data) - len(weird_values))\n"
   ]
  },
  {
   "cell_type": "code",
   "execution_count": 14,
   "id": "0114d432",
   "metadata": {},
   "outputs": [
    {
     "data": {
      "text/plain": [
       "1"
      ]
     },
     "execution_count": 14,
     "metadata": {},
     "output_type": "execute_result"
    }
   ],
   "source": [
    "# create default dict of {date: tweet_count}\n",
    "tweet_date_dict = defaultdict(lambda: 0)\n",
    "for tweet_indv in data_test:\n",
    "    # get yyyy-mm-dd of tweet, +1 to dict value for each tweet on given day\n",
    "    date = tweet_indv[4][:10]\n",
    "    tweet_date_dict[date] += 1\n",
    "\n",
    "# remove first \"tweet\" (header)\n",
    "tweet_date_dict.pop('timestamp')"
   ]
  },
  {
   "cell_type": "code",
   "execution_count": 15,
   "id": "c12950c0",
   "metadata": {
    "scrolled": false
   },
   "outputs": [],
   "source": [
    "# sort tweets counts by day, create dataframe\n",
    "tweet_date_dict = dict(sorted(tweet_date_dict.items()))\n",
    "df_tweetdate = pd.DataFrame(tweet_date_dict.items(), index = None, columns = ['date', 'tweet_count'])"
   ]
  },
  {
   "cell_type": "markdown",
   "id": "46df5899",
   "metadata": {},
   "source": [
    "## Tweets vs. Price Visualization\n",
    "<a id='tweets_vs._price_visualization'></a>"
   ]
  },
  {
   "cell_type": "code",
   "execution_count": 16,
   "id": "5036e415",
   "metadata": {},
   "outputs": [],
   "source": [
    "# combine df_tweetdate and df_btc_price on common dates\n",
    "result = pd.merge(df_btc_price, df_tweetdate, how=\"inner\")"
   ]
  },
  {
   "cell_type": "code",
   "execution_count": 17,
   "id": "1441a18e",
   "metadata": {
    "scrolled": true
   },
   "outputs": [
    {
     "data": {
      "image/png": "[encoded data removed]",
      "text/plain": [
       "<Figure size 864x432 with 1 Axes>"
      ]
     },
     "metadata": {},
     "output_type": "display_data"
    }
   ],
   "source": [
    "# Make a line plot to make it easier to see any trends of the Bitcoin Closing \n",
    "# prices.\n",
    "plt.plot(result.loc[:, 'date'], result.loc[:, 'Close'], label = 'BTC Price in $')\n",
    "plt.plot(result.loc[:, 'date'], result.loc[:, 'tweet_count']/10, label = 'Tweet Count / 10', alpha = .6)\n",
    "# set the font size \n",
    "sns.set(font_scale=1.4)\n",
    "# Set the title, labels, and size of the graph\n",
    "\n",
    "xticks = []\n",
    "for index in range(2400):\n",
    "    if index % 730 == 0:\n",
    "        xticks.append(df_btc_price.loc[index, 'date'])\n",
    "\n",
    "# add title, labels, legend, xticks\n",
    "plt.title('Bitcoin Closing Price through time')\n",
    "plt.xlabel('Years')\n",
    "plt.xticks(xticks)\n",
    "plt.ylabel('BTC Price in $, Tweet Count / 10')\n",
    "plt.gcf().set_size_inches(12, 6)\n",
    "plt.legend()\n",
    "plt.show()"
   ]
  },
  {
   "cell_type": "markdown",
   "id": "4f518cf8",
   "metadata": {},
   "source": [
    "<a id='incomplete'></a>\n",
    "This graph demonstrates a historical correlation between the volume of Bitcoin related tweets and large fluctuations in Bitcoin's price, especially during 2019.\n",
    "\n",
    "It also appears that the tweet dataset may contain issues/errors before 2019-05-10. The shape of the line graph appears highly irregular. It seems unlikely that there would be nearly 125,000 tweets in one day, and < 1000 just a day or two later. It further seems unlikely that this trend of a spike in tweets followed by a huge crash would completely disappear on 2019-05-10 and never resurface.\n",
    "\n",
    "We have validated that the data was properly obtained from the CSV file, but we will proceed with caution when analyzing tweets before 2019-05-10."
   ]
  },
  {
   "cell_type": "markdown",
   "id": "71295ba0",
   "metadata": {},
   "source": [
    "## Sentiment Analysis of Tweet Data\n",
    "<a id='sentiment_analysis'></a>\n",
    "To analyze the sentiments of our tweets, we will use the NTLK VADER sentiment analysis tool. This is a powerful library specifically designed to be used on short form text such as social media posts, and has the ability to analyze slang/internet jargon.\n",
    "\n",
    "Given text, it returns a postive sentiment value, a neutral sentiment value, a negative sentiment value, and a compound sentiment value. For our analysis, we will check whether the compound sentiment value is positive, negative, or neutral, and assign the tweet this categorical sentiment variable, along with all of its likes, retweets, and replies.\n",
    "\n",
    "Using dictionaries, we will track the count of each of these tweet attributes for every day in the data. We will then build a dataframe which includes the count of all positive, negative, and neutral sentiment tweet attributes, along with the total counts of tweets.\n",
    "\n",
    "The dataframe will also include the % change in price for each day and the following day, so that we can perform regressions on the immediate effect of tweets on Bitcoin's price, and the slightly delayed effect (which would be more useful to investors)."
   ]
  },
  {
   "cell_type": "code",
   "execution_count": 18,
   "id": "1704b2f9",
   "metadata": {},
   "outputs": [],
   "source": [
    "# Create empty dict with dates as keys to create all other dictionaries\n",
    "empty_tweet_dict = tweet_date_dict.copy()\n",
    "\n",
    "for key in empty_tweet_dict:\n",
    "    empty_tweet_dict[key] = 0\n"
   ]
  },
  {
   "cell_type": "code",
   "execution_count": 19,
   "id": "1af36de5",
   "metadata": {},
   "outputs": [],
   "source": [
    "# create positive tweet data dicts\n",
    "pos_count_dict = empty_tweet_dict.copy()\n",
    "pos_reply_dict = empty_tweet_dict.copy()\n",
    "pos_retweet_dict = empty_tweet_dict.copy()\n",
    "pos_like_dict = empty_tweet_dict.copy()"
   ]
  },
  {
   "cell_type": "code",
   "execution_count": 20,
   "id": "b68daac5",
   "metadata": {},
   "outputs": [],
   "source": [
    "# create negative tweet data dicts\n",
    "neg_count_dict = empty_tweet_dict.copy()\n",
    "neg_reply_dict = empty_tweet_dict.copy()\n",
    "neg_retweet_dict = empty_tweet_dict.copy()\n",
    "neg_like_dict = empty_tweet_dict.copy()"
   ]
  },
  {
   "cell_type": "code",
   "execution_count": 21,
   "id": "f6a828d2",
   "metadata": {},
   "outputs": [],
   "source": [
    "# create neutral tweet data dicts\n",
    "neutral_count_dict = empty_tweet_dict.copy()\n",
    "neutral_reply_dict = empty_tweet_dict.copy()\n",
    "neutral_retweet_dict = empty_tweet_dict.copy()\n",
    "neutral_like_dict = empty_tweet_dict.copy()"
   ]
  },
  {
   "cell_type": "code",
   "execution_count": 22,
   "id": "5836356a",
   "metadata": {},
   "outputs": [
    {
     "name": "stdout",
     "output_type": "stream",
     "text": [
      "Requirement already satisfied: nltk in c:\\users\\joshg\\anaconda3\\lib\\site-packages (3.6.5)\n",
      "Requirement already satisfied: click in c:\\users\\joshg\\anaconda3\\lib\\site-packages (from nltk) (8.0.3)\n",
      "Requirement already satisfied: joblib in c:\\users\\joshg\\anaconda3\\lib\\site-packages (from nltk) (1.1.0)\n",
      "Requirement already satisfied: regex>=2021.8.3 in c:\\users\\joshg\\anaconda3\\lib\\site-packages (from nltk) (2021.8.3)\n",
      "Requirement already satisfied: tqdm in c:\\users\\joshg\\anaconda3\\lib\\site-packages (from nltk) (4.62.3)\n",
      "Requirement already satisfied: colorama in c:\\users\\joshg\\anaconda3\\lib\\site-packages (from click->nltk) (0.4.4)\n",
      "Note: you may need to restart the kernel to use updated packages.\n"
     ]
    }
   ],
   "source": [
    "pip install nltk"
   ]
  },
  {
   "cell_type": "code",
   "execution_count": 23,
   "id": "3b763150",
   "metadata": {},
   "outputs": [
    {
     "name": "stderr",
     "output_type": "stream",
     "text": [
      "[nltk_data] Downloading package vader_lexicon to\n",
      "[nltk_data]     C:\\Users\\joshg\\AppData\\Roaming\\nltk_data...\n",
      "[nltk_data]   Package vader_lexicon is already up-to-date!\n"
     ]
    },
    {
     "data": {
      "text/plain": [
       "True"
      ]
     },
     "execution_count": 23,
     "metadata": {},
     "output_type": "execute_result"
    }
   ],
   "source": [
    "import nltk\n",
    "\n",
    "nltk.download(['vader_lexicon'])"
   ]
  },
  {
   "cell_type": "code",
   "execution_count": 24,
   "id": "e90f37b2",
   "metadata": {},
   "outputs": [],
   "source": [
    "from nltk.sentiment.vader import SentimentIntensityAnalyzer"
   ]
  },
  {
   "cell_type": "code",
   "execution_count": 25,
   "id": "7339413f",
   "metadata": {},
   "outputs": [],
   "source": [
    "# dictionary of tweet info: key is \"id\" of the tweet (meaningless but unique)\n",
    "# values of dict are lists. Items of dict in order are: date, replies, likes, retweets, text\n",
    "complete_tweet_dict = defaultdict(lambda: [])\n",
    "id = 0\n",
    "for tweet_indv in data_test[1:]:\n",
    "    date = tweet_indv[4][:10]\n",
    "    replies = int(tweet_indv[5])\n",
    "    likes = int(tweet_indv[6])\n",
    "    retweets = int(tweet_indv[7])\n",
    "    text = tweet_indv[8]\n",
    "    \n",
    "    # intitalize date to dict\n",
    "    for aspect in [date, replies, likes, retweets, text]:\n",
    "        complete_tweet_dict[id].append(aspect)\n",
    "    id += 1\n",
    "    "
   ]
  },
  {
   "cell_type": "code",
   "execution_count": 26,
   "id": "a11bb1d4",
   "metadata": {},
   "outputs": [],
   "source": [
    "from nltk import tokenize"
   ]
  },
  {
   "cell_type": "code",
   "execution_count": 27,
   "id": "c38a720a",
   "metadata": {},
   "outputs": [],
   "source": [
    "from tqdm import tqdm\n",
    "import time"
   ]
  },
  {
   "cell_type": "code",
   "execution_count": 28,
   "id": "87e34020",
   "metadata": {},
   "outputs": [],
   "source": [
    "def get_sentiment_counts(tweets):\n",
    "    \"\"\" gets the sentiments of all tweets on a given date, including like count,\n",
    "        retweet count, and reply count for positive, negative, and neutral tweets\n",
    "    \n",
    "    Args:\n",
    "        tweets (dict): dict of tweets, key is id and value is all tweet info (date, replies, likes, retweets, text)\n",
    "        \n",
    "    Returns: sentiment_day_dict (list): list items are tuples\n",
    "        first tuple contains dicts of positive tweet info: pos tweet count, replies, likes, retweets\n",
    "        second tuple is contains dicts of negative tweet info\n",
    "        third tuple contains dicts of neutral tweet info\n",
    "    \"\"\"\n",
    "    # initialize all dictionaries\n",
    "    \n",
    "    # Create empty dict with dates as keys to create all other dictionaries\n",
    "    empty_tweet_dict = tweet_date_dict.copy()\n",
    "    for key in empty_tweet_dict:\n",
    "        empty_tweet_dict[key] = 0\n",
    "    \n",
    "    # create positive tweet data dicts\n",
    "    pos_count_dict = empty_tweet_dict.copy()\n",
    "    pos_reply_dict = empty_tweet_dict.copy()\n",
    "    pos_retweet_dict = empty_tweet_dict.copy()\n",
    "    pos_like_dict = empty_tweet_dict.copy()\n",
    "    \n",
    "    # create negative tweet data dicts\n",
    "    neg_count_dict = empty_tweet_dict.copy()\n",
    "    neg_reply_dict = empty_tweet_dict.copy()\n",
    "    neg_retweet_dict = empty_tweet_dict.copy()\n",
    "    neg_like_dict = empty_tweet_dict.copy()\n",
    "    \n",
    "    # create neutral tweet data dicts\n",
    "    neutral_count_dict = empty_tweet_dict.copy()\n",
    "    neutral_reply_dict = empty_tweet_dict.copy()\n",
    "    neutral_retweet_dict = empty_tweet_dict.copy()\n",
    "    neutral_like_dict = empty_tweet_dict.copy()\n",
    "    \n",
    "    sid = SentimentIntensityAnalyzer()\n",
    "    \n",
    "    # iterate through all tweets, make lowercase, get date and text\n",
    "    for tweet in tqdm(tweets):\n",
    "        date = tweet[0]\n",
    "        text = tweet[-1].lower()\n",
    "\n",
    "        # get compounds sentiment value, add tweet attributes to appropriate dictionary\n",
    "        ss = sid.polarity_scores(text)\n",
    "        for k in sorted(ss):\n",
    "            analysis = (ss)\n",
    "            \n",
    "            # add to positive dict\n",
    "            if analysis['compound'] > 0:\n",
    "                pos_count_dict[date] += 1\n",
    "                pos_reply_dict[date] += tweet[1]\n",
    "                pos_like_dict[date] += tweet[2]\n",
    "                pos_retweet_dict[date] += tweet[3]\n",
    "            \n",
    "            # add to negative dict\n",
    "            elif analysis['compound'] < 0:\n",
    "                neg_count_dict[date] += 1\n",
    "                neg_reply_dict[date] += tweet[1]\n",
    "                neg_like_dict[date] += tweet[2]\n",
    "                neg_retweet_dict[date] += tweet[3]\n",
    "            \n",
    "            # add to neutral dict\n",
    "            elif analysis['compound'] == 0:\n",
    "                neutral_count_dict[date] += 1\n",
    "                neutral_reply_dict[date] += tweet[1]\n",
    "                neutral_like_dict[date] += tweet[2]\n",
    "                neutral_retweet_dict[date] += tweet[3]\n",
    "    \n",
    "    return [(pos_count_dict, pos_reply_dict, pos_like_dict, pos_retweet_dict),\n",
    "            (neg_count_dict, neg_reply_dict, neg_like_dict, neg_retweet_dict),\n",
    "            (neutral_count_dict, neutral_reply_dict, neutral_like_dict, neutral_retweet_dict)]"
   ]
  },
  {
   "cell_type": "code",
   "execution_count": 29,
   "id": "3283be97",
   "metadata": {},
   "outputs": [
    {
     "name": "stderr",
     "output_type": "stream",
     "text": [
      "100%|████████████████████████████████████████████████████████████████████| 16889765/16889765 [50:31<00:00, 5570.88it/s]\n"
     ]
    }
   ],
   "source": [
    "# retrieve all dictionaries\n",
    "all_data_dicts_final = get_sentiment_counts(complete_tweet_dict.values())"
   ]
  },
  {
   "cell_type": "code",
   "execution_count": 30,
   "id": "e59c3fea",
   "metadata": {},
   "outputs": [],
   "source": [
    "# copy list of dictionaries\n",
    "dictionary_list_test = all_data_dicts_final.copy()"
   ]
  },
  {
   "cell_type": "code",
   "execution_count": 31,
   "id": "c7a6c611",
   "metadata": {},
   "outputs": [],
   "source": [
    "# unpack list of dictionaries\n",
    "pos_count_dict = dictionary_list_test[0][0]\n",
    "pos_reply_dict = dictionary_list_test[0][1]\n",
    "pos_like_dict = dictionary_list_test[0][2]\n",
    "pos_retweet_dict = dictionary_list_test[0][3]\n",
    "\n",
    "neg_count_dict = dictionary_list_test[1][0]\n",
    "neg_reply_dict = dictionary_list_test[1][1]\n",
    "neg_like_dict = dictionary_list_test[1][2]\n",
    "neg_retweet_dict = dictionary_list_test[1][3]\n",
    "\n",
    "neutral_count_dict = dictionary_list_test[2][0]\n",
    "neutral_reply_dict = dictionary_list_test[2][1]\n",
    "neutral_like_dict = dictionary_list_test[2][2]\n",
    "neutral_retweet_dict = dictionary_list_test[2][3]"
   ]
  },
  {
   "cell_type": "code",
   "execution_count": 32,
   "id": "37196988",
   "metadata": {},
   "outputs": [],
   "source": [
    "# create dataframe of every dictionary\n",
    "df_pos_count = pd.DataFrame(pos_count_dict.items(), index = None, columns = ['date', 'pos_count'])\n",
    "df_pos_reply = pd.DataFrame(pos_reply_dict.items(), index = None, columns = ['date', 'pos_reply'])\n",
    "df_pos_like = pd.DataFrame(pos_like_dict.items(), index = None, columns = ['date', 'pos_like'])\n",
    "df_pos_retweet = pd.DataFrame(pos_retweet_dict.items(), index = None, columns = ['date', 'pos_retweet'])\n",
    "\n",
    "df_neg_count = pd.DataFrame(neg_count_dict.items(), index = None, columns = ['date', 'neg_count'])\n",
    "df_neg_reply = pd.DataFrame(neg_reply_dict.items(), index = None, columns = ['date', 'neg_reply'])\n",
    "df_neg_like = pd.DataFrame(neg_like_dict.items(), index = None, columns = ['date', 'neg_like'])\n",
    "df_neg_retweet = pd.DataFrame(neg_retweet_dict.items(), index = None, columns = ['date', 'neg_retweet'])\n",
    "\n",
    "df_neutral_count = pd.DataFrame(neutral_count_dict.items(), index = None, columns = ['date', 'neutral_count'])\n",
    "df_neutral_reply = pd.DataFrame(neutral_reply_dict.items(), index = None, columns = ['date', 'neutral_reply'])\n",
    "df_neutral_like = pd.DataFrame(neutral_like_dict.items(), index = None, columns = ['date', 'neutral_like'])\n",
    "df_neutral_retweet = pd.DataFrame(neutral_retweet_dict.items(), index = None, columns = ['date', 'neutral_retweet'])"
   ]
  },
  {
   "cell_type": "code",
   "execution_count": 33,
   "id": "bd0b73c0",
   "metadata": {
    "scrolled": true
   },
   "outputs": [
    {
     "data": {
      "text/html": [
       "<div>\n",
       "<style scoped>\n",
       "    .dataframe tbody tr th:only-of-type {\n",
       "        vertical-align: middle;\n",
       "    }\n",
       "\n",
       "    .dataframe tbody tr th {\n",
       "        vertical-align: top;\n",
       "    }\n",
       "\n",
       "    .dataframe thead th {\n",
       "        text-align: right;\n",
       "    }\n",
       "</style>\n",
       "<table border=\"1\" class=\"dataframe\">\n",
       "  <thead>\n",
       "    <tr style=\"text-align: right;\">\n",
       "      <th></th>\n",
       "      <th>date</th>\n",
       "      <th>pos_count</th>\n",
       "      <th>pos_reply</th>\n",
       "      <th>pos_like</th>\n",
       "      <th>pos_retweet</th>\n",
       "      <th>neg_count</th>\n",
       "      <th>neg_reply</th>\n",
       "      <th>neg_like</th>\n",
       "      <th>neg_retweet</th>\n",
       "      <th>neutral_count</th>\n",
       "      <th>neutral_reply</th>\n",
       "      <th>neutral_like</th>\n",
       "      <th>neutral_retweet</th>\n",
       "    </tr>\n",
       "  </thead>\n",
       "  <tbody>\n",
       "    <tr>\n",
       "      <th>0</th>\n",
       "      <td>2007-04-19</td>\n",
       "      <td>4</td>\n",
       "      <td>0</td>\n",
       "      <td>0</td>\n",
       "      <td>8</td>\n",
       "      <td>0</td>\n",
       "      <td>0</td>\n",
       "      <td>0</td>\n",
       "      <td>0</td>\n",
       "      <td>0</td>\n",
       "      <td>0</td>\n",
       "      <td>0</td>\n",
       "      <td>0</td>\n",
       "    </tr>\n",
       "    <tr>\n",
       "      <th>1</th>\n",
       "      <td>2009-01-11</td>\n",
       "      <td>0</td>\n",
       "      <td>0</td>\n",
       "      <td>0</td>\n",
       "      <td>0</td>\n",
       "      <td>0</td>\n",
       "      <td>0</td>\n",
       "      <td>0</td>\n",
       "      <td>0</td>\n",
       "      <td>4</td>\n",
       "      <td>3160</td>\n",
       "      <td>57880</td>\n",
       "      <td>22168</td>\n",
       "    </tr>\n",
       "    <tr>\n",
       "      <th>2</th>\n",
       "      <td>2009-01-21</td>\n",
       "      <td>0</td>\n",
       "      <td>0</td>\n",
       "      <td>0</td>\n",
       "      <td>0</td>\n",
       "      <td>0</td>\n",
       "      <td>0</td>\n",
       "      <td>0</td>\n",
       "      <td>0</td>\n",
       "      <td>4</td>\n",
       "      <td>220</td>\n",
       "      <td>6176</td>\n",
       "      <td>1568</td>\n",
       "    </tr>\n",
       "    <tr>\n",
       "      <th>3</th>\n",
       "      <td>2009-01-27</td>\n",
       "      <td>0</td>\n",
       "      <td>0</td>\n",
       "      <td>0</td>\n",
       "      <td>0</td>\n",
       "      <td>0</td>\n",
       "      <td>0</td>\n",
       "      <td>0</td>\n",
       "      <td>0</td>\n",
       "      <td>4</td>\n",
       "      <td>176</td>\n",
       "      <td>4168</td>\n",
       "      <td>1108</td>\n",
       "    </tr>\n",
       "    <tr>\n",
       "      <th>4</th>\n",
       "      <td>2009-01-29</td>\n",
       "      <td>0</td>\n",
       "      <td>0</td>\n",
       "      <td>0</td>\n",
       "      <td>0</td>\n",
       "      <td>0</td>\n",
       "      <td>0</td>\n",
       "      <td>0</td>\n",
       "      <td>0</td>\n",
       "      <td>4</td>\n",
       "      <td>0</td>\n",
       "      <td>112</td>\n",
       "      <td>64</td>\n",
       "    </tr>\n",
       "    <tr>\n",
       "      <th>...</th>\n",
       "      <td>...</td>\n",
       "      <td>...</td>\n",
       "      <td>...</td>\n",
       "      <td>...</td>\n",
       "      <td>...</td>\n",
       "      <td>...</td>\n",
       "      <td>...</td>\n",
       "      <td>...</td>\n",
       "      <td>...</td>\n",
       "      <td>...</td>\n",
       "      <td>...</td>\n",
       "      <td>...</td>\n",
       "      <td>...</td>\n",
       "    </tr>\n",
       "    <tr>\n",
       "      <th>3000</th>\n",
       "      <td>2019-11-19</td>\n",
       "      <td>84408</td>\n",
       "      <td>37944</td>\n",
       "      <td>207284</td>\n",
       "      <td>105416</td>\n",
       "      <td>31196</td>\n",
       "      <td>9300</td>\n",
       "      <td>93504</td>\n",
       "      <td>27524</td>\n",
       "      <td>136384</td>\n",
       "      <td>12352</td>\n",
       "      <td>250956</td>\n",
       "      <td>50080</td>\n",
       "    </tr>\n",
       "    <tr>\n",
       "      <th>3001</th>\n",
       "      <td>2019-11-20</td>\n",
       "      <td>86060</td>\n",
       "      <td>46500</td>\n",
       "      <td>234568</td>\n",
       "      <td>93696</td>\n",
       "      <td>28584</td>\n",
       "      <td>10212</td>\n",
       "      <td>87080</td>\n",
       "      <td>25424</td>\n",
       "      <td>132548</td>\n",
       "      <td>17928</td>\n",
       "      <td>184552</td>\n",
       "      <td>96296</td>\n",
       "    </tr>\n",
       "    <tr>\n",
       "      <th>3002</th>\n",
       "      <td>2019-11-21</td>\n",
       "      <td>94112</td>\n",
       "      <td>51972</td>\n",
       "      <td>225932</td>\n",
       "      <td>89816</td>\n",
       "      <td>36716</td>\n",
       "      <td>16776</td>\n",
       "      <td>470748</td>\n",
       "      <td>108560</td>\n",
       "      <td>148008</td>\n",
       "      <td>20604</td>\n",
       "      <td>218556</td>\n",
       "      <td>101616</td>\n",
       "    </tr>\n",
       "    <tr>\n",
       "      <th>3003</th>\n",
       "      <td>2019-11-22</td>\n",
       "      <td>93792</td>\n",
       "      <td>38336</td>\n",
       "      <td>207696</td>\n",
       "      <td>71576</td>\n",
       "      <td>43436</td>\n",
       "      <td>17760</td>\n",
       "      <td>150736</td>\n",
       "      <td>33340</td>\n",
       "      <td>162460</td>\n",
       "      <td>23296</td>\n",
       "      <td>210400</td>\n",
       "      <td>68272</td>\n",
       "    </tr>\n",
       "    <tr>\n",
       "      <th>3004</th>\n",
       "      <td>2019-11-23</td>\n",
       "      <td>47172</td>\n",
       "      <td>9516</td>\n",
       "      <td>50616</td>\n",
       "      <td>19940</td>\n",
       "      <td>17668</td>\n",
       "      <td>3428</td>\n",
       "      <td>24760</td>\n",
       "      <td>6228</td>\n",
       "      <td>79256</td>\n",
       "      <td>3788</td>\n",
       "      <td>37356</td>\n",
       "      <td>15644</td>\n",
       "    </tr>\n",
       "  </tbody>\n",
       "</table>\n",
       "<p>3005 rows × 13 columns</p>\n",
       "</div>"
      ],
      "text/plain": [
       "            date  pos_count  pos_reply  pos_like  pos_retweet  neg_count  \\\n",
       "0     2007-04-19          4          0         0            8          0   \n",
       "1     2009-01-11          0          0         0            0          0   \n",
       "2     2009-01-21          0          0         0            0          0   \n",
       "3     2009-01-27          0          0         0            0          0   \n",
       "4     2009-01-29          0          0         0            0          0   \n",
       "...          ...        ...        ...       ...          ...        ...   \n",
       "3000  2019-11-19      84408      37944    207284       105416      31196   \n",
       "3001  2019-11-20      86060      46500    234568        93696      28584   \n",
       "3002  2019-11-21      94112      51972    225932        89816      36716   \n",
       "3003  2019-11-22      93792      38336    207696        71576      43436   \n",
       "3004  2019-11-23      47172       9516     50616        19940      17668   \n",
       "\n",
       "      neg_reply  neg_like  neg_retweet  neutral_count  neutral_reply  \\\n",
       "0             0         0            0              0              0   \n",
       "1             0         0            0              4           3160   \n",
       "2             0         0            0              4            220   \n",
       "3             0         0            0              4            176   \n",
       "4             0         0            0              4              0   \n",
       "...         ...       ...          ...            ...            ...   \n",
       "3000       9300     93504        27524         136384          12352   \n",
       "3001      10212     87080        25424         132548          17928   \n",
       "3002      16776    470748       108560         148008          20604   \n",
       "3003      17760    150736        33340         162460          23296   \n",
       "3004       3428     24760         6228          79256           3788   \n",
       "\n",
       "      neutral_like  neutral_retweet  \n",
       "0                0                0  \n",
       "1            57880            22168  \n",
       "2             6176             1568  \n",
       "3             4168             1108  \n",
       "4              112               64  \n",
       "...            ...              ...  \n",
       "3000        250956            50080  \n",
       "3001        184552            96296  \n",
       "3002        218556           101616  \n",
       "3003        210400            68272  \n",
       "3004         37356            15644  \n",
       "\n",
       "[3005 rows x 13 columns]"
      ]
     },
     "execution_count": 33,
     "metadata": {},
     "output_type": "execute_result"
    }
   ],
   "source": [
    "# create list of dfs, don't include pos_count\n",
    "df_list = [df_pos_reply, df_pos_like, df_pos_retweet,\n",
    "           df_neg_count, df_neg_reply, df_neg_like, df_neg_retweet,\n",
    "           df_neutral_count, df_neutral_reply, df_neutral_like, df_neutral_retweet]\n",
    "\n",
    "# merge dataframes\n",
    "df_final = df_pos_count.copy()\n",
    "for df in df_list:\n",
    "    df_final = df_final.merge(df, on='date')\n",
    "    \n",
    "df_final"
   ]
  },
  {
   "cell_type": "code",
   "execution_count": 34,
   "id": "883a2ef7",
   "metadata": {},
   "outputs": [],
   "source": [
    "# prepare Bitcoin price dataset for merging\n",
    "df_btc_price = df_btc_price.rename(str.lower, axis='columns')\n",
    "\n",
    "# create new df to track % price change\n",
    "df_btc_price_change = df_btc_price.copy()\n",
    "\n",
    "# get % price change for each day\n",
    "percent_price_change = (((df_btc_price_change.loc[:, 'open'] - df_btc_price_change.loc[:, 'close'])\n",
    "                          / df_btc_price_change.loc[:, 'open']) * 100)\n",
    "\n",
    "# add % price change to df\n",
    "df_btc_price_change['percent_price_change'] = percent_price_change\n",
    "\n",
    "# add % price change for next day to df\n",
    "percent_price_change_next_day = percent_price_change[1:]\n",
    "df_btc_price_change['percent_price_change_next_day'] = percent_price_change_next_day\n",
    "df_btc_price_change['percent_price_change_next_day'] = df_btc_price_change['percent_price_change'].shift(periods = -1)"
   ]
  },
  {
   "cell_type": "code",
   "execution_count": 35,
   "id": "4fadb85c",
   "metadata": {},
   "outputs": [],
   "source": [
    "# merge dataframes\n",
    "df_complete = pd.merge(df_final, df_btc_price_change, how=\"inner\", on='date')\n",
    "df_complete = df_complete.drop(['open', 'close'], axis = 1)"
   ]
  },
  {
   "cell_type": "code",
   "execution_count": 36,
   "id": "dd8b9c07",
   "metadata": {},
   "outputs": [
    {
     "data": {
      "text/html": [
       "<div>\n",
       "<style scoped>\n",
       "    .dataframe tbody tr th:only-of-type {\n",
       "        vertical-align: middle;\n",
       "    }\n",
       "\n",
       "    .dataframe tbody tr th {\n",
       "        vertical-align: top;\n",
       "    }\n",
       "\n",
       "    .dataframe thead th {\n",
       "        text-align: right;\n",
       "    }\n",
       "</style>\n",
       "<table border=\"1\" class=\"dataframe\">\n",
       "  <thead>\n",
       "    <tr style=\"text-align: right;\">\n",
       "      <th></th>\n",
       "      <th>date</th>\n",
       "      <th>pos_count</th>\n",
       "      <th>pos_reply</th>\n",
       "      <th>pos_like</th>\n",
       "      <th>pos_retweet</th>\n",
       "      <th>neg_count</th>\n",
       "      <th>neg_reply</th>\n",
       "      <th>neg_like</th>\n",
       "      <th>neg_retweet</th>\n",
       "      <th>neutral_count</th>\n",
       "      <th>neutral_reply</th>\n",
       "      <th>neutral_like</th>\n",
       "      <th>neutral_retweet</th>\n",
       "      <th>volume</th>\n",
       "      <th>marketcap</th>\n",
       "      <th>percent_price_change</th>\n",
       "      <th>percent_price_change_next_day</th>\n",
       "    </tr>\n",
       "  </thead>\n",
       "  <tbody>\n",
       "    <tr>\n",
       "      <th>0</th>\n",
       "      <td>2013-04-29</td>\n",
       "      <td>1224</td>\n",
       "      <td>0</td>\n",
       "      <td>0</td>\n",
       "      <td>168</td>\n",
       "      <td>0</td>\n",
       "      <td>0</td>\n",
       "      <td>0</td>\n",
       "      <td>0</td>\n",
       "      <td>1360</td>\n",
       "      <td>0</td>\n",
       "      <td>4</td>\n",
       "      <td>84</td>\n",
       "      <td>0.000000e+00</td>\n",
       "      <td>1.603769e+09</td>\n",
       "      <td>-7.509441</td>\n",
       "      <td>3.472222</td>\n",
       "    </tr>\n",
       "    <tr>\n",
       "      <th>1</th>\n",
       "      <td>2013-04-30</td>\n",
       "      <td>1400</td>\n",
       "      <td>0</td>\n",
       "      <td>20</td>\n",
       "      <td>328</td>\n",
       "      <td>208</td>\n",
       "      <td>0</td>\n",
       "      <td>16</td>\n",
       "      <td>40</td>\n",
       "      <td>1196</td>\n",
       "      <td>12</td>\n",
       "      <td>20</td>\n",
       "      <td>148</td>\n",
       "      <td>0.000000e+00</td>\n",
       "      <td>1.542813e+09</td>\n",
       "      <td>3.472222</td>\n",
       "      <td>15.834534</td>\n",
       "    </tr>\n",
       "    <tr>\n",
       "      <th>2</th>\n",
       "      <td>2013-05-01</td>\n",
       "      <td>2212</td>\n",
       "      <td>0</td>\n",
       "      <td>4</td>\n",
       "      <td>436</td>\n",
       "      <td>232</td>\n",
       "      <td>0</td>\n",
       "      <td>16</td>\n",
       "      <td>44</td>\n",
       "      <td>1020</td>\n",
       "      <td>0</td>\n",
       "      <td>28</td>\n",
       "      <td>180</td>\n",
       "      <td>0.000000e+00</td>\n",
       "      <td>1.298955e+09</td>\n",
       "      <td>15.834534</td>\n",
       "      <td>9.597868</td>\n",
       "    </tr>\n",
       "    <tr>\n",
       "      <th>3</th>\n",
       "      <td>2013-05-02</td>\n",
       "      <td>1572</td>\n",
       "      <td>0</td>\n",
       "      <td>16</td>\n",
       "      <td>200</td>\n",
       "      <td>268</td>\n",
       "      <td>0</td>\n",
       "      <td>16</td>\n",
       "      <td>60</td>\n",
       "      <td>904</td>\n",
       "      <td>0</td>\n",
       "      <td>28</td>\n",
       "      <td>140</td>\n",
       "      <td>0.000000e+00</td>\n",
       "      <td>1.168517e+09</td>\n",
       "      <td>9.597868</td>\n",
       "      <td>8.000000</td>\n",
       "    </tr>\n",
       "    <tr>\n",
       "      <th>4</th>\n",
       "      <td>2013-05-03</td>\n",
       "      <td>1692</td>\n",
       "      <td>4</td>\n",
       "      <td>0</td>\n",
       "      <td>1460</td>\n",
       "      <td>268</td>\n",
       "      <td>0</td>\n",
       "      <td>4</td>\n",
       "      <td>52</td>\n",
       "      <td>808</td>\n",
       "      <td>0</td>\n",
       "      <td>8</td>\n",
       "      <td>96</td>\n",
       "      <td>0.000000e+00</td>\n",
       "      <td>1.085995e+09</td>\n",
       "      <td>8.000000</td>\n",
       "      <td>-14.678901</td>\n",
       "    </tr>\n",
       "    <tr>\n",
       "      <th>...</th>\n",
       "      <td>...</td>\n",
       "      <td>...</td>\n",
       "      <td>...</td>\n",
       "      <td>...</td>\n",
       "      <td>...</td>\n",
       "      <td>...</td>\n",
       "      <td>...</td>\n",
       "      <td>...</td>\n",
       "      <td>...</td>\n",
       "      <td>...</td>\n",
       "      <td>...</td>\n",
       "      <td>...</td>\n",
       "      <td>...</td>\n",
       "      <td>...</td>\n",
       "      <td>...</td>\n",
       "      <td>...</td>\n",
       "      <td>...</td>\n",
       "    </tr>\n",
       "    <tr>\n",
       "      <th>2395</th>\n",
       "      <td>2019-11-19</td>\n",
       "      <td>84408</td>\n",
       "      <td>37944</td>\n",
       "      <td>207284</td>\n",
       "      <td>105416</td>\n",
       "      <td>31196</td>\n",
       "      <td>9300</td>\n",
       "      <td>93504</td>\n",
       "      <td>27524</td>\n",
       "      <td>136384</td>\n",
       "      <td>12352</td>\n",
       "      <td>250956</td>\n",
       "      <td>50080</td>\n",
       "      <td>2.108361e+10</td>\n",
       "      <td>1.481784e+11</td>\n",
       "      <td>1.191894</td>\n",
       "      <td>2.149601</td>\n",
       "    </tr>\n",
       "    <tr>\n",
       "      <th>2396</th>\n",
       "      <td>2019-11-20</td>\n",
       "      <td>86060</td>\n",
       "      <td>46500</td>\n",
       "      <td>234568</td>\n",
       "      <td>93696</td>\n",
       "      <td>28584</td>\n",
       "      <td>10212</td>\n",
       "      <td>87080</td>\n",
       "      <td>25424</td>\n",
       "      <td>132548</td>\n",
       "      <td>17928</td>\n",
       "      <td>184552</td>\n",
       "      <td>96296</td>\n",
       "      <td>2.076430e+10</td>\n",
       "      <td>1.449627e+11</td>\n",
       "      <td>2.149601</td>\n",
       "      <td>4.747154</td>\n",
       "    </tr>\n",
       "    <tr>\n",
       "      <th>2397</th>\n",
       "      <td>2019-11-21</td>\n",
       "      <td>94112</td>\n",
       "      <td>51972</td>\n",
       "      <td>225932</td>\n",
       "      <td>89816</td>\n",
       "      <td>36716</td>\n",
       "      <td>16776</td>\n",
       "      <td>470748</td>\n",
       "      <td>108560</td>\n",
       "      <td>148008</td>\n",
       "      <td>20604</td>\n",
       "      <td>218556</td>\n",
       "      <td>101616</td>\n",
       "      <td>2.251424e+10</td>\n",
       "      <td>1.380319e+11</td>\n",
       "      <td>4.747154</td>\n",
       "      <td>4.539657</td>\n",
       "    </tr>\n",
       "    <tr>\n",
       "      <th>2398</th>\n",
       "      <td>2019-11-22</td>\n",
       "      <td>93792</td>\n",
       "      <td>38336</td>\n",
       "      <td>207696</td>\n",
       "      <td>71576</td>\n",
       "      <td>43436</td>\n",
       "      <td>17760</td>\n",
       "      <td>150736</td>\n",
       "      <td>33340</td>\n",
       "      <td>162460</td>\n",
       "      <td>23296</td>\n",
       "      <td>210400</td>\n",
       "      <td>68272</td>\n",
       "      <td>3.424232e+10</td>\n",
       "      <td>1.317918e+11</td>\n",
       "      <td>4.539657</td>\n",
       "      <td>-1.392956</td>\n",
       "    </tr>\n",
       "    <tr>\n",
       "      <th>2399</th>\n",
       "      <td>2019-11-23</td>\n",
       "      <td>47172</td>\n",
       "      <td>9516</td>\n",
       "      <td>50616</td>\n",
       "      <td>19940</td>\n",
       "      <td>17668</td>\n",
       "      <td>3428</td>\n",
       "      <td>24760</td>\n",
       "      <td>6228</td>\n",
       "      <td>79256</td>\n",
       "      <td>3788</td>\n",
       "      <td>37356</td>\n",
       "      <td>15644</td>\n",
       "      <td>2.100892e+10</td>\n",
       "      <td>1.336362e+11</td>\n",
       "      <td>-1.392956</td>\n",
       "      <td>4.740294</td>\n",
       "    </tr>\n",
       "  </tbody>\n",
       "</table>\n",
       "<p>2400 rows × 17 columns</p>\n",
       "</div>"
      ],
      "text/plain": [
       "            date  pos_count  pos_reply  pos_like  pos_retweet  neg_count  \\\n",
       "0     2013-04-29       1224          0         0          168          0   \n",
       "1     2013-04-30       1400          0        20          328        208   \n",
       "2     2013-05-01       2212          0         4          436        232   \n",
       "3     2013-05-02       1572          0        16          200        268   \n",
       "4     2013-05-03       1692          4         0         1460        268   \n",
       "...          ...        ...        ...       ...          ...        ...   \n",
       "2395  2019-11-19      84408      37944    207284       105416      31196   \n",
       "2396  2019-11-20      86060      46500    234568        93696      28584   \n",
       "2397  2019-11-21      94112      51972    225932        89816      36716   \n",
       "2398  2019-11-22      93792      38336    207696        71576      43436   \n",
       "2399  2019-11-23      47172       9516     50616        19940      17668   \n",
       "\n",
       "      neg_reply  neg_like  neg_retweet  neutral_count  neutral_reply  \\\n",
       "0             0         0            0           1360              0   \n",
       "1             0        16           40           1196             12   \n",
       "2             0        16           44           1020              0   \n",
       "3             0        16           60            904              0   \n",
       "4             0         4           52            808              0   \n",
       "...         ...       ...          ...            ...            ...   \n",
       "2395       9300     93504        27524         136384          12352   \n",
       "2396      10212     87080        25424         132548          17928   \n",
       "2397      16776    470748       108560         148008          20604   \n",
       "2398      17760    150736        33340         162460          23296   \n",
       "2399       3428     24760         6228          79256           3788   \n",
       "\n",
       "      neutral_like  neutral_retweet        volume     marketcap  \\\n",
       "0                4               84  0.000000e+00  1.603769e+09   \n",
       "1               20              148  0.000000e+00  1.542813e+09   \n",
       "2               28              180  0.000000e+00  1.298955e+09   \n",
       "3               28              140  0.000000e+00  1.168517e+09   \n",
       "4                8               96  0.000000e+00  1.085995e+09   \n",
       "...            ...              ...           ...           ...   \n",
       "2395        250956            50080  2.108361e+10  1.481784e+11   \n",
       "2396        184552            96296  2.076430e+10  1.449627e+11   \n",
       "2397        218556           101616  2.251424e+10  1.380319e+11   \n",
       "2398        210400            68272  3.424232e+10  1.317918e+11   \n",
       "2399         37356            15644  2.100892e+10  1.336362e+11   \n",
       "\n",
       "      percent_price_change  percent_price_change_next_day  \n",
       "0                -7.509441                       3.472222  \n",
       "1                 3.472222                      15.834534  \n",
       "2                15.834534                       9.597868  \n",
       "3                 9.597868                       8.000000  \n",
       "4                 8.000000                     -14.678901  \n",
       "...                    ...                            ...  \n",
       "2395              1.191894                       2.149601  \n",
       "2396              2.149601                       4.747154  \n",
       "2397              4.747154                       4.539657  \n",
       "2398              4.539657                      -1.392956  \n",
       "2399             -1.392956                       4.740294  \n",
       "\n",
       "[2400 rows x 17 columns]"
      ]
     },
     "execution_count": 36,
     "metadata": {},
     "output_type": "execute_result"
    }
   ],
   "source": [
    "df_complete"
   ]
  },
  {
   "cell_type": "markdown",
   "id": "a07ba3f1",
   "metadata": {},
   "source": [
    "# Method:\n",
    "\n",
    "## 1 - Cross Validated Linear Regressions\n",
    "\n",
    "We will create cross validated linear regressions to find the impact of tweet sentiment metrics on Bitcoin's price for each day. Ideally this will yield a positive R^2 value for a linear regression equation which allows us to predict the % change in Bitcoin's price, based on the tweet sentiment values for that day.\n",
    "\n",
    "We will also run this regression on the % change in Bitcoin's price for the next day. If successful, this would allow investors to potentially predict and take advantage of future Bitcoin price changes from current tweet data.\n",
    "\n",
    "In creating this regression, we making multiple assumptions:\n",
    "- Twitter activity and overall sentiment impacts Bitcoin's price\n",
    "\n",
    "\n",
    "- Our sentiment analysis accurately analyzed the sentiment of the tweets, and appropriately takes into account tweet attributes such as likes, retweets, and replies.\n",
    "\n",
    "\n",
    "We will also run regressions of total tweets vs. change in Bitcoin price. If our sentiment analysis or sentiment aggregation method is inaccurate, we may be able to achieve a better R^2 by using this more simple metric.\n",
    "\n",
    "Finally, we will address the issue that appeared in our graph of total tweets vs. Bitcoin price, where the graph of total tweets appeared irregular before 2019-05-10. To do this, we will re-run all of our regressions on 2019-05-10 onwards. Another potential pitful we run into with this analysis is cross validation: there are only around 200 rows in this smaller segment of the data, so by cross validating multiple times, we create regressions on very small sample sizes. This may could yield highly inaccurate results.\n",
    "\n",
    "#### Regressions on all dates:\n",
    "1. y = percent_price_change | x = all sentiment columns\n",
    "\n",
    "\n",
    "2. y = percent_price_change_next_ day | x = all sentiment columns\n",
    "\n",
    "\n",
    "3. y = percent_price_change | x = total_tweets\n",
    "\n",
    "\n",
    "4. y = percent_price_change_next_day | x = total_tweets\n",
    "\n",
    "#### Regressions on  2019-05-10 onwards:\n",
    "5. y = percent_price_change | x = all sentiment columns\n",
    "\n",
    "\n",
    "6. y = percent_price_change_next_ day | x = all sentiment columns\n",
    "\n",
    "\n",
    "7. y = percent_price_change | x = total_tweets\n",
    "\n",
    "\n",
    "8. y = percent_price_change_next_day | x = total_tweets\n"
   ]
  },
  {
   "cell_type": "markdown",
   "id": "04c449dc",
   "metadata": {},
   "source": [
    "## 2 - Decision Tree Regressor"
   ]
  },
  {
   "cell_type": "markdown",
   "id": "0c6a3266",
   "metadata": {},
   "source": [
    "We will create a decision tree regressor to predict the % change in Bitcoin's price on a given day based on aggregated sentiment counts on that day. This will also allow us to see which sentiment variables may be most significant (e.g., positive tweet likes).\n",
    "\n",
    "One potential pitfall of this approach is that our completed tree may not be able to give accurate/useful predictions due to the nature of our data.\n",
    "\n",
    "As we saw in our histogram of Bitcoin's % change in price per day, Bitcoin is not very volatile on the majority of days. On a few days, however, it will have a huge swing in price. These values will contribute significantly to MSE values, and the decision tree may end up with several very small sample size \"buckets\" to account for these outliers. Then, the remaining buckets will have large sample sizes with low predicted values for % change in price, since the remaining data points will all be relatively close to 0."
   ]
  },
  {
   "cell_type": "markdown",
   "id": "22622626",
   "metadata": {},
   "source": [
    "## 3 - Random Forest Regressor, Feature Importance Graph"
   ]
  },
  {
   "cell_type": "markdown",
   "id": "9d66d82e",
   "metadata": {},
   "source": [
    "We will create a random forest regressor to reduce potential overfitting of our model, and to create a feature importance plot. The feature importance plot will tell us which tweet sentiment variables are the most important in determining % change in Bitcoin's price.\n",
    "\n",
    "One potential downfall of this ML method is that if our regressor does not perform well, then our feature importance graph will also be relatively useless. Our feature importance graph is only relevant if our regressor actually does a good job of predicting change in Bitcoin price."
   ]
  },
  {
   "cell_type": "markdown",
   "id": "2a457e09",
   "metadata": {},
   "source": [
    "## 4 - K-Means Clustering Comparison of Tweet Data and BTC Price"
   ]
  },
  {
   "cell_type": "markdown",
   "id": "c7b8f7ec",
   "metadata": {},
   "source": [
    "We will create two graphs of k-means clusters vs. mean distance squared to centroid. One k means graph will relate to our aggregated tweet attribute data, and the other graph will relate to Bitcoin's price data. If the graphs seem to have the same/similar ideal k number of clusters, this suggests that there is at least some correlation between Bitcoin's price fluctuations and Twitter sentiment.\n",
    "\n",
    "One drawback of this ML method is that any implications it provides will be somewhat subjective and non-concrete. It's possible that our two datasets could have the same ideal number of k-means but still not be related to one another. This method of analysis will serve as more of an indicator of whether or not further future inquiry is warranted. We can take it into account with the rest of our analysis, but it should not be used as a concrete indicator."
   ]
  },
  {
   "cell_type": "markdown",
   "id": "65f1b7f8",
   "metadata": {},
   "source": [
    "# Results"
   ]
  },
  {
   "cell_type": "markdown",
   "id": "6c15cee6",
   "metadata": {},
   "source": [
    "## 1 - Cross Validated Linear Regressions"
   ]
  },
  {
   "cell_type": "code",
   "execution_count": 37,
   "id": "91dee30c",
   "metadata": {},
   "outputs": [],
   "source": [
    "# copy complete df, add total tweets column\n",
    "df = df_complete.copy()\n",
    "df['total_tweet_count'] = df['pos_count'] + df['neg_count'] + df['neutral_count']"
   ]
  },
  {
   "cell_type": "code",
   "execution_count": 38,
   "id": "1c0e875b",
   "metadata": {},
   "outputs": [],
   "source": [
    "from sklearn.model_selection import cross_validate\n",
    "from sklearn.linear_model import LinearRegression\n",
    "import pandas as pd\n",
    "def linear_regression(x, y, pr=0):\n",
    "    \"\"\" creates a 10 fold cross validated linear regression\n",
    "    \n",
    "    Args:\n",
    "        x (dataframe): pandas dataframe with only x variable columns\n",
    "        y (pandas series): dependant regression variable, such as df['price_change']\n",
    "        pr (int): if 0, does not print regression equation. If 1, prints equation.\n",
    "        \n",
    "    \n",
    "    Returns:\n",
    "        mean r^2 of all linear regressions, prints mean regression equation\n",
    "    \"\"\"\n",
    "        \n",
    "    lin = LinearRegression()\n",
    "\n",
    "    # 10-fold cross-validation\n",
    "    cv_results = cross_validate(lin, x, y, cv=10, scoring=('r2'), return_estimator=True)\n",
    "\n",
    "    # Compute the mean R^2 score from the cross-validation\n",
    "    mean_r2 = cv_results['test_score'].mean()\n",
    "\n",
    "    # Get the list of linear regression estimators from the cross-validation results\n",
    "    estimators = cv_results['estimator']\n",
    "\n",
    "    # Compute the mean coefficients and intercepts of the linear regression models\n",
    "    mean_coef = np.mean([model.coef_ for model in estimators], axis=0)\n",
    "    mean_intercept = np.mean([model.intercept_ for model in estimators])\n",
    "\n",
    "    # Print the mean regression equation\n",
    "    equation = \"y = \"\n",
    "    for i in range(len(x.columns)):\n",
    "        part = \"(\" + str(round(mean_coef[i], 10)) + \"*\" + x.columns[i] + \") + \"\n",
    "        equation += part\n",
    "    equation += str(round(mean_intercept, 5))\n",
    "    if pr == True:\n",
    "        print(equation + \"\\n\")\n",
    "\n",
    "    # Return the mean R^2 score\n",
    "    return mean_r2\n"
   ]
  },
  {
   "cell_type": "code",
   "execution_count": 39,
   "id": "97c709e6",
   "metadata": {},
   "outputs": [],
   "source": [
    "df_test = df.copy()"
   ]
  },
  {
   "cell_type": "code",
   "execution_count": 40,
   "id": "af1699ef",
   "metadata": {},
   "outputs": [],
   "source": [
    "df_all_x_attributes = df_test.drop(['volume', 'marketcap', 'percent_price_change',\n",
    "                                 'percent_price_change_next_day', 'total_tweet_count', 'date'], axis = 1)"
   ]
  },
  {
   "cell_type": "markdown",
   "id": "c32125ed",
   "metadata": {},
   "source": [
    "#### 1. y = percent_price_change | x = all sentiment columns | dates = all"
   ]
  },
  {
   "cell_type": "code",
   "execution_count": 41,
   "id": "4ee73026",
   "metadata": {
    "scrolled": true
   },
   "outputs": [
    {
     "name": "stdout",
     "output_type": "stream",
     "text": [
      "y = (1.9096e-06*pos_count) + (3.48192e-05*pos_reply) + (2.0809e-06*pos_like) + (-2.74834e-05*pos_retweet) + (0.0001778646*neg_count) + (-2.64452e-05*neg_reply) + (5.8774e-06*neg_like) + (-2.6019e-06*neg_retweet) + (-2.51494e-05*neutral_count) + (-4.5712e-05*neutral_reply) + (-1.10046e-05*neutral_like) + (1.69547e-05*neutral_retweet) + -0.1662\n",
      "\n"
     ]
    },
    {
     "data": {
      "text/plain": [
       "-0.14620712996801943"
      ]
     },
     "execution_count": 41,
     "metadata": {},
     "output_type": "execute_result"
    }
   ],
   "source": [
    "# print equation and r^2 for first regression to demonstrate ability of function\n",
    "# print only r^2 value for future regressions\n",
    "reg_list = []\n",
    "reg1 = linear_regression(df_all_x_attributes, df['percent_price_change'], 0)\n",
    "linear_regression(df_all_x_attributes, df['percent_price_change'], 1)"
   ]
  },
  {
   "cell_type": "markdown",
   "id": "f20b6f60",
   "metadata": {},
   "source": [
    "#### 2. y = percent_price_change_next_day | x = all sentiment columns | dates = all"
   ]
  },
  {
   "cell_type": "code",
   "execution_count": 42,
   "id": "9dcb87d1",
   "metadata": {
    "scrolled": false
   },
   "outputs": [
    {
     "name": "stdout",
     "output_type": "stream",
     "text": [
      "-0.10375319506256293\n"
     ]
    }
   ],
   "source": [
    "reg2 = linear_regression(df_all_x_attributes, df['percent_price_change_next_day'])\n",
    "print(reg2)"
   ]
  },
  {
   "cell_type": "code",
   "execution_count": 43,
   "id": "88f9b6f3",
   "metadata": {},
   "outputs": [],
   "source": [
    "# create dataframe including only total tweets\n",
    "drop_list = list(df_test.columns[:-1])\n",
    "df_total_tweets = df_test.drop(drop_list, axis = 1)"
   ]
  },
  {
   "cell_type": "markdown",
   "id": "eb73d5da",
   "metadata": {},
   "source": [
    "#### 3. y = percent_price_change | x = total_tweets | dates = all"
   ]
  },
  {
   "cell_type": "code",
   "execution_count": 44,
   "id": "187a11a4",
   "metadata": {
    "scrolled": true
   },
   "outputs": [
    {
     "name": "stdout",
     "output_type": "stream",
     "text": [
      "-0.014470103961547909\n"
     ]
    }
   ],
   "source": [
    "reg3 = linear_regression(df_total_tweets, df['percent_price_change'])\n",
    "print(reg3)"
   ]
  },
  {
   "cell_type": "markdown",
   "id": "4ee46eb5",
   "metadata": {},
   "source": [
    "#### 4. y = percent_price_change_next_day | x = total_tweets | dates = all"
   ]
  },
  {
   "cell_type": "code",
   "execution_count": 45,
   "id": "dcbd609e",
   "metadata": {},
   "outputs": [
    {
     "name": "stdout",
     "output_type": "stream",
     "text": [
      "-0.013027582844046148\n"
     ]
    }
   ],
   "source": [
    "reg4 = linear_regression(df_total_tweets, df['percent_price_change_next_day'])\n",
    "print(reg4)"
   ]
  },
  {
   "cell_type": "code",
   "execution_count": 46,
   "id": "b3782107",
   "metadata": {
    "scrolled": false
   },
   "outputs": [
    {
     "data": {
      "text/html": [
       "<div>\n",
       "<style scoped>\n",
       "    .dataframe tbody tr th:only-of-type {\n",
       "        vertical-align: middle;\n",
       "    }\n",
       "\n",
       "    .dataframe tbody tr th {\n",
       "        vertical-align: top;\n",
       "    }\n",
       "\n",
       "    .dataframe thead th {\n",
       "        text-align: right;\n",
       "    }\n",
       "</style>\n",
       "<table border=\"1\" class=\"dataframe\">\n",
       "  <thead>\n",
       "    <tr style=\"text-align: right;\">\n",
       "      <th></th>\n",
       "      <th>date</th>\n",
       "      <th>pos_count</th>\n",
       "      <th>pos_reply</th>\n",
       "      <th>pos_like</th>\n",
       "      <th>pos_retweet</th>\n",
       "      <th>neg_count</th>\n",
       "      <th>neg_reply</th>\n",
       "      <th>neg_like</th>\n",
       "      <th>neg_retweet</th>\n",
       "      <th>neutral_count</th>\n",
       "      <th>neutral_reply</th>\n",
       "      <th>neutral_like</th>\n",
       "      <th>neutral_retweet</th>\n",
       "      <th>volume</th>\n",
       "      <th>marketcap</th>\n",
       "      <th>percent_price_change</th>\n",
       "      <th>percent_price_change_next_day</th>\n",
       "      <th>total_tweet_count</th>\n",
       "    </tr>\n",
       "  </thead>\n",
       "  <tbody>\n",
       "    <tr>\n",
       "      <th>2202</th>\n",
       "      <td>2019-05-10</td>\n",
       "      <td>67292</td>\n",
       "      <td>53664</td>\n",
       "      <td>344956</td>\n",
       "      <td>119240</td>\n",
       "      <td>25736</td>\n",
       "      <td>17648</td>\n",
       "      <td>156668</td>\n",
       "      <td>38948</td>\n",
       "      <td>106428</td>\n",
       "      <td>25072</td>\n",
       "      <td>266300</td>\n",
       "      <td>124144</td>\n",
       "      <td>1.941988e+10</td>\n",
       "      <td>1.128633e+11</td>\n",
       "      <td>-3.287436</td>\n",
       "      <td>-12.933352</td>\n",
       "      <td>199456</td>\n",
       "    </tr>\n",
       "  </tbody>\n",
       "</table>\n",
       "</div>"
      ],
      "text/plain": [
       "            date  pos_count  pos_reply  pos_like  pos_retweet  neg_count  \\\n",
       "2202  2019-05-10      67292      53664    344956       119240      25736   \n",
       "\n",
       "      neg_reply  neg_like  neg_retweet  neutral_count  neutral_reply  \\\n",
       "2202      17648    156668        38948         106428          25072   \n",
       "\n",
       "      neutral_like  neutral_retweet        volume     marketcap  \\\n",
       "2202        266300           124144  1.941988e+10  1.128633e+11   \n",
       "\n",
       "      percent_price_change  percent_price_change_next_day  total_tweet_count  \n",
       "2202             -3.287436                     -12.933352             199456  "
      ]
     },
     "execution_count": 46,
     "metadata": {},
     "output_type": "execute_result"
    }
   ],
   "source": [
    "df_test.loc[df['date'] == '2019-05-10']"
   ]
  },
  {
   "cell_type": "code",
   "execution_count": 47,
   "id": "ea31ae68",
   "metadata": {},
   "outputs": [],
   "source": [
    "df_later = df_test.iloc[2202:]\n",
    "df_later = df_later.drop(['volume', 'marketcap', 'percent_price_change',\n",
    "                                      'percent_price_change_next_day', 'total_tweet_count', 'date'], axis = 1)"
   ]
  },
  {
   "cell_type": "markdown",
   "id": "b81fcb52",
   "metadata": {},
   "source": [
    "#### 5. y = percent_price_change | x = all sentiment columns | dates = 2019-05-10 onwards"
   ]
  },
  {
   "cell_type": "code",
   "execution_count": 48,
   "id": "841aba27",
   "metadata": {
    "scrolled": false
   },
   "outputs": [
    {
     "name": "stdout",
     "output_type": "stream",
     "text": [
      "-0.4734970478369114\n"
     ]
    }
   ],
   "source": [
    "reg5 = linear_regression(df_later, df.iloc[2202:]['percent_price_change'])\n",
    "print(reg5)"
   ]
  },
  {
   "cell_type": "markdown",
   "id": "b9ecb4b6",
   "metadata": {},
   "source": [
    "#### 6. y = percent_price_change_next_day | x = all sentiment columns | dates = 2019-05-10 onwards"
   ]
  },
  {
   "cell_type": "code",
   "execution_count": 49,
   "id": "40afb69f",
   "metadata": {
    "scrolled": true
   },
   "outputs": [
    {
     "name": "stdout",
     "output_type": "stream",
     "text": [
      "-5.513333442606273\n"
     ]
    }
   ],
   "source": [
    "reg6 = linear_regression(df_later, df.iloc[2202:]['percent_price_change_next_day'])\n",
    "print(reg6)"
   ]
  },
  {
   "cell_type": "markdown",
   "id": "eb66eb83",
   "metadata": {},
   "source": [
    "#### 7. y = percent_price_change | x = total_tweets | dates = 2019-05-10 onwards"
   ]
  },
  {
   "cell_type": "code",
   "execution_count": 50,
   "id": "e7f90175",
   "metadata": {
    "scrolled": true
   },
   "outputs": [
    {
     "name": "stdout",
     "output_type": "stream",
     "text": [
      "-0.13022507965791305\n"
     ]
    }
   ],
   "source": [
    "df_total_tweets_later = df_total_tweets.iloc[2202:]\n",
    "\n",
    "reg7 = linear_regression(df_total_tweets_later, df.iloc[2202:]['percent_price_change'])\n",
    "print(reg7)"
   ]
  },
  {
   "cell_type": "markdown",
   "id": "77185d65",
   "metadata": {},
   "source": [
    "#### 8. y = percent_price_change_next_day | x = total_tweets | dates = 2019-05-10 onwards"
   ]
  },
  {
   "cell_type": "code",
   "execution_count": 51,
   "id": "5acc04ea",
   "metadata": {},
   "outputs": [
    {
     "name": "stdout",
     "output_type": "stream",
     "text": [
      "-0.1597731986071157\n"
     ]
    }
   ],
   "source": [
    "reg8 = linear_regression(df_total_tweets_later, df.iloc[2202:]['percent_price_change_next_day'])\n",
    "print(reg8)"
   ]
  },
  {
   "cell_type": "markdown",
   "id": "0a2e5d71",
   "metadata": {},
   "source": [
    "<a id='failed'></a>\n",
    "None of the r^2 values for our regressions are greater than 0, meaning they are not better than random chance at predicting changes in Bitcoin price. However, a couple regressions (reg3 and reg4) did get very close to an R^2 of 0."
   ]
  },
  {
   "cell_type": "markdown",
   "id": "f4722e9e",
   "metadata": {},
   "source": [
    "## 2 - Decision Tree Regressor"
   ]
  },
  {
   "cell_type": "code",
   "execution_count": 52,
   "id": "b1146859",
   "metadata": {},
   "outputs": [],
   "source": [
    "# copy complete df, set index to 'date' column, drop unnecessary columns\n",
    "df_tweet = df_complete.copy()\n",
    "df_tweet = df_tweet.set_index('date')\n",
    "df_tweet = df_tweet.drop(['volume', 'marketcap'], axis = 1)"
   ]
  },
  {
   "cell_type": "code",
   "execution_count": 53,
   "id": "2b5b2188",
   "metadata": {},
   "outputs": [],
   "source": [
    "from sklearn import tree\n",
    "\n",
    "def train_dec_tree_tweet(df, max_depth=3, x_feat_list=None, plot=True):\n",
    "    \"\"\" trains a decision tree classifier, optionally prints graph\n",
    "    \n",
    "    Args:\n",
    "        df_tweet (pd.DataFrame): the tweet for bitcoin\n",
    "        max_depth (int): max depth of decision tree\n",
    "        x_feat_list (list): list of input features\n",
    "        plot (bool): toggles graph output (default: True)\n",
    "        \n",
    "    Returns:\n",
    "        dec_tree_reg (DecisionTreeRegressor): trained decicision tree\n",
    "    \"\"\"\n",
    "    \n",
    "    if x_feat_list is None:\n",
    "        # default x_feat_list\n",
    "        x_feat_list = df.columns[1: -2]\n",
    "\n",
    "    # extract data from dataframe\n",
    "    x = df.loc[:, x_feat_list].values\n",
    "    y = df.loc[:, 'percent_price_change'].values\n",
    "    \n",
    "    # build decision tree classifier\n",
    "    dec_tree_reg = tree.DecisionTreeRegressor(max_depth=max_depth)\n",
    "\n",
    "    # fit data\n",
    "    dec_tree_reg = dec_tree_reg.fit(x, y)\n",
    "    \n",
    "    # plot figure of decision tree\n",
    "    if plot:\n",
    "        # initialize empty figure (plot_tree sets text size to fill given figure\n",
    "        # if we resize figure afterwards text size remains too small)\n",
    "        plt.figure()\n",
    "        plt.gcf().set_size_inches(20, 15)\n",
    "        \n",
    "        # 'plot' decision tree\n",
    "        tree.plot_tree(dec_tree_reg, \n",
    "                       feature_names=x_feat_list)\n",
    "    \n",
    "    return dec_tree_reg"
   ]
  },
  {
   "cell_type": "code",
   "execution_count": 54,
   "id": "d9c88441",
   "metadata": {
    "scrolled": false
   },
   "outputs": [
    {
     "data": {
      "image/png": "[encoded data removed]",
      "text/plain": [
       "<Figure size 1440x1080 with 1 Axes>"
      ]
     },
     "metadata": {},
     "output_type": "display_data"
    }
   ],
   "source": [
    "dec_tree = train_dec_tree_tweet(df_tweet, max_depth=3, plot=True)"
   ]
  },
  {
   "cell_type": "markdown",
   "id": "b2f72501",
   "metadata": {},
   "source": [
    "Our decision tree regressor significantly reduces MSE for only 7 samples out of 2400. It is therefore not a useful tool for deriving % change in Bitcoin price from Bitcoin tweet attribute sentiments."
   ]
  },
  {
   "cell_type": "markdown",
   "id": "b3359ac5",
   "metadata": {},
   "source": [
    "## 3 - Random Forest Regressor, Feature Importance Graph"
   ]
  },
  {
   "cell_type": "code",
   "execution_count": 55,
   "id": "9230c2c0",
   "metadata": {},
   "outputs": [
    {
     "data": {
      "text/plain": [
       "RandomForestRegressor()"
      ]
     },
     "execution_count": 55,
     "metadata": {},
     "output_type": "execute_result"
    }
   ],
   "source": [
    "from sklearn.ensemble import RandomForestRegressor\n",
    "\n",
    "x_feat_list = df_tweet.columns[1: -2]\n",
    "\n",
    "# extract data from dataframe\n",
    "x = df_tweet.loc[:, x_feat_list].values\n",
    "y = df_tweet.loc[:, 'percent_price_change'].values\n",
    "\n",
    "rf_reg = RandomForestRegressor(n_estimators=100)\n",
    "\n",
    "rf_reg.fit(x, y)\n",
    "\n"
   ]
  },
  {
   "cell_type": "code",
   "execution_count": 56,
   "id": "f8810db8",
   "metadata": {},
   "outputs": [],
   "source": [
    "def plot_feat_import(feat_list, feat_import, sort=True, limit=None):\n",
    "    \"\"\" plots feature importances in a horizontal bar chart\n",
    "    \n",
    "    Args:\n",
    "        feat_list (list): str names of features\n",
    "        feat_import (np.array): feature importances (mean gini reduce)\n",
    "        sort (bool): if True, sorts features in decreasing importance\n",
    "            from top to bottom of plot\n",
    "        limit (int): if passed, limits the number of features shown\n",
    "            to this value    \n",
    "    \"\"\"\n",
    "    \n",
    "    if sort:\n",
    "        # sort features in decreasing importance\n",
    "        idx = np.argsort(feat_import).astype(int)\n",
    "        feat_list = [feat_list[_idx] for _idx in idx]\n",
    "        feat_import = feat_import[idx] \n",
    "        \n",
    "    if limit is not None:\n",
    "        # limit to the first limit feature\n",
    "        feat_list = feat_list[:limit]\n",
    "        feat_import = feat_import[:limit]\n",
    "    \n",
    "    # plot and label feature importance\n",
    "    plt.barh(feat_list, feat_import)\n",
    "    plt.gcf().set_size_inches(5, len(feat_list) / 2)\n",
    "    plt.xlabel('Feature importance\\n(Mean decrease in MSE across all Decision Trees)')"
   ]
  },
  {
   "cell_type": "code",
   "execution_count": 57,
   "id": "1a3f1f72",
   "metadata": {
    "scrolled": true
   },
   "outputs": [
    {
     "data": {
      "image/png": "[encoded data removed]",
      "text/plain": [
       "<Figure size 360x360 with 1 Axes>"
      ]
     },
     "metadata": {},
     "output_type": "display_data"
    }
   ],
   "source": [
    "sns.set()\n",
    "\n",
    "plot_feat_import(x_feat_list, rf_reg.feature_importances_, limit=10)"
   ]
  },
  {
   "cell_type": "markdown",
   "id": "8f9b6416",
   "metadata": {},
   "source": [
    "Based on the efficacy of our previous ML models, it is unlikely that our random forest regressor is accurate. Therefore, this feature importance graph is not very relevant, since it is derived from said random forest regressor."
   ]
  },
  {
   "cell_type": "markdown",
   "id": "e2cea44f",
   "metadata": {},
   "source": [
    "## 4 - K-Means Clustering Comparison of Tweet Data and BTC Price"
   ]
  },
  {
   "cell_type": "markdown",
   "id": "de2fd04a",
   "metadata": {},
   "source": [
    "#### Tweets data"
   ]
  },
  {
   "cell_type": "code",
   "execution_count": 58,
   "id": "d0ad169d",
   "metadata": {
    "scrolled": true
   },
   "outputs": [
    {
     "data": {
      "text/html": [
       "<div>\n",
       "<style scoped>\n",
       "    .dataframe tbody tr th:only-of-type {\n",
       "        vertical-align: middle;\n",
       "    }\n",
       "\n",
       "    .dataframe tbody tr th {\n",
       "        vertical-align: top;\n",
       "    }\n",
       "\n",
       "    .dataframe thead th {\n",
       "        text-align: right;\n",
       "    }\n",
       "</style>\n",
       "<table border=\"1\" class=\"dataframe\">\n",
       "  <thead>\n",
       "    <tr style=\"text-align: right;\">\n",
       "      <th></th>\n",
       "      <th>pos_reply</th>\n",
       "      <th>pos_like</th>\n",
       "      <th>pos_retweet</th>\n",
       "      <th>neg_count</th>\n",
       "      <th>neg_reply</th>\n",
       "      <th>neg_like</th>\n",
       "      <th>neg_retweet</th>\n",
       "      <th>neutral_count</th>\n",
       "      <th>neutral_reply</th>\n",
       "      <th>neutral_like</th>\n",
       "      <th>neutral_retweet</th>\n",
       "    </tr>\n",
       "  </thead>\n",
       "  <tbody>\n",
       "    <tr>\n",
       "      <th>pos_reply</th>\n",
       "      <td>1.000000</td>\n",
       "      <td>0.831882</td>\n",
       "      <td>0.797557</td>\n",
       "      <td>0.868619</td>\n",
       "      <td>0.694891</td>\n",
       "      <td>0.642183</td>\n",
       "      <td>0.554967</td>\n",
       "      <td>0.916693</td>\n",
       "      <td>0.806056</td>\n",
       "      <td>0.812349</td>\n",
       "      <td>0.708273</td>\n",
       "    </tr>\n",
       "    <tr>\n",
       "      <th>pos_like</th>\n",
       "      <td>0.831882</td>\n",
       "      <td>1.000000</td>\n",
       "      <td>0.887896</td>\n",
       "      <td>0.900439</td>\n",
       "      <td>0.772898</td>\n",
       "      <td>0.727146</td>\n",
       "      <td>0.615119</td>\n",
       "      <td>0.888125</td>\n",
       "      <td>0.869812</td>\n",
       "      <td>0.897174</td>\n",
       "      <td>0.762967</td>\n",
       "    </tr>\n",
       "    <tr>\n",
       "      <th>pos_retweet</th>\n",
       "      <td>0.797557</td>\n",
       "      <td>0.887896</td>\n",
       "      <td>1.000000</td>\n",
       "      <td>0.814248</td>\n",
       "      <td>0.681544</td>\n",
       "      <td>0.729173</td>\n",
       "      <td>0.623779</td>\n",
       "      <td>0.813227</td>\n",
       "      <td>0.779801</td>\n",
       "      <td>0.814225</td>\n",
       "      <td>0.720157</td>\n",
       "    </tr>\n",
       "    <tr>\n",
       "      <th>neg_count</th>\n",
       "      <td>0.868619</td>\n",
       "      <td>0.900439</td>\n",
       "      <td>0.814248</td>\n",
       "      <td>1.000000</td>\n",
       "      <td>0.808434</td>\n",
       "      <td>0.718146</td>\n",
       "      <td>0.623013</td>\n",
       "      <td>0.981497</td>\n",
       "      <td>0.913653</td>\n",
       "      <td>0.929646</td>\n",
       "      <td>0.819565</td>\n",
       "    </tr>\n",
       "    <tr>\n",
       "      <th>neg_reply</th>\n",
       "      <td>0.694891</td>\n",
       "      <td>0.772898</td>\n",
       "      <td>0.681544</td>\n",
       "      <td>0.808434</td>\n",
       "      <td>1.000000</td>\n",
       "      <td>0.714426</td>\n",
       "      <td>0.665466</td>\n",
       "      <td>0.760871</td>\n",
       "      <td>0.797144</td>\n",
       "      <td>0.785434</td>\n",
       "      <td>0.657127</td>\n",
       "    </tr>\n",
       "    <tr>\n",
       "      <th>neg_like</th>\n",
       "      <td>0.642183</td>\n",
       "      <td>0.727146</td>\n",
       "      <td>0.729173</td>\n",
       "      <td>0.718146</td>\n",
       "      <td>0.714426</td>\n",
       "      <td>1.000000</td>\n",
       "      <td>0.844233</td>\n",
       "      <td>0.690943</td>\n",
       "      <td>0.706281</td>\n",
       "      <td>0.729861</td>\n",
       "      <td>0.610719</td>\n",
       "    </tr>\n",
       "    <tr>\n",
       "      <th>neg_retweet</th>\n",
       "      <td>0.554967</td>\n",
       "      <td>0.615119</td>\n",
       "      <td>0.623779</td>\n",
       "      <td>0.623013</td>\n",
       "      <td>0.665466</td>\n",
       "      <td>0.844233</td>\n",
       "      <td>1.000000</td>\n",
       "      <td>0.597425</td>\n",
       "      <td>0.598290</td>\n",
       "      <td>0.618761</td>\n",
       "      <td>0.525318</td>\n",
       "    </tr>\n",
       "    <tr>\n",
       "      <th>neutral_count</th>\n",
       "      <td>0.916693</td>\n",
       "      <td>0.888125</td>\n",
       "      <td>0.813227</td>\n",
       "      <td>0.981497</td>\n",
       "      <td>0.760871</td>\n",
       "      <td>0.690943</td>\n",
       "      <td>0.597425</td>\n",
       "      <td>1.000000</td>\n",
       "      <td>0.890621</td>\n",
       "      <td>0.912552</td>\n",
       "      <td>0.809073</td>\n",
       "    </tr>\n",
       "    <tr>\n",
       "      <th>neutral_reply</th>\n",
       "      <td>0.806056</td>\n",
       "      <td>0.869812</td>\n",
       "      <td>0.779801</td>\n",
       "      <td>0.913653</td>\n",
       "      <td>0.797144</td>\n",
       "      <td>0.706281</td>\n",
       "      <td>0.598290</td>\n",
       "      <td>0.890621</td>\n",
       "      <td>1.000000</td>\n",
       "      <td>0.949442</td>\n",
       "      <td>0.860451</td>\n",
       "    </tr>\n",
       "    <tr>\n",
       "      <th>neutral_like</th>\n",
       "      <td>0.812349</td>\n",
       "      <td>0.897174</td>\n",
       "      <td>0.814225</td>\n",
       "      <td>0.929646</td>\n",
       "      <td>0.785434</td>\n",
       "      <td>0.729861</td>\n",
       "      <td>0.618761</td>\n",
       "      <td>0.912552</td>\n",
       "      <td>0.949442</td>\n",
       "      <td>1.000000</td>\n",
       "      <td>0.881374</td>\n",
       "    </tr>\n",
       "    <tr>\n",
       "      <th>neutral_retweet</th>\n",
       "      <td>0.708273</td>\n",
       "      <td>0.762967</td>\n",
       "      <td>0.720157</td>\n",
       "      <td>0.819565</td>\n",
       "      <td>0.657127</td>\n",
       "      <td>0.610719</td>\n",
       "      <td>0.525318</td>\n",
       "      <td>0.809073</td>\n",
       "      <td>0.860451</td>\n",
       "      <td>0.881374</td>\n",
       "      <td>1.000000</td>\n",
       "    </tr>\n",
       "  </tbody>\n",
       "</table>\n",
       "</div>"
      ],
      "text/plain": [
       "                 pos_reply  pos_like  pos_retweet  neg_count  neg_reply  \\\n",
       "pos_reply         1.000000  0.831882     0.797557   0.868619   0.694891   \n",
       "pos_like          0.831882  1.000000     0.887896   0.900439   0.772898   \n",
       "pos_retweet       0.797557  0.887896     1.000000   0.814248   0.681544   \n",
       "neg_count         0.868619  0.900439     0.814248   1.000000   0.808434   \n",
       "neg_reply         0.694891  0.772898     0.681544   0.808434   1.000000   \n",
       "neg_like          0.642183  0.727146     0.729173   0.718146   0.714426   \n",
       "neg_retweet       0.554967  0.615119     0.623779   0.623013   0.665466   \n",
       "neutral_count     0.916693  0.888125     0.813227   0.981497   0.760871   \n",
       "neutral_reply     0.806056  0.869812     0.779801   0.913653   0.797144   \n",
       "neutral_like      0.812349  0.897174     0.814225   0.929646   0.785434   \n",
       "neutral_retweet   0.708273  0.762967     0.720157   0.819565   0.657127   \n",
       "\n",
       "                 neg_like  neg_retweet  neutral_count  neutral_reply  \\\n",
       "pos_reply        0.642183     0.554967       0.916693       0.806056   \n",
       "pos_like         0.727146     0.615119       0.888125       0.869812   \n",
       "pos_retweet      0.729173     0.623779       0.813227       0.779801   \n",
       "neg_count        0.718146     0.623013       0.981497       0.913653   \n",
       "neg_reply        0.714426     0.665466       0.760871       0.797144   \n",
       "neg_like         1.000000     0.844233       0.690943       0.706281   \n",
       "neg_retweet      0.844233     1.000000       0.597425       0.598290   \n",
       "neutral_count    0.690943     0.597425       1.000000       0.890621   \n",
       "neutral_reply    0.706281     0.598290       0.890621       1.000000   \n",
       "neutral_like     0.729861     0.618761       0.912552       0.949442   \n",
       "neutral_retweet  0.610719     0.525318       0.809073       0.860451   \n",
       "\n",
       "                 neutral_like  neutral_retweet  \n",
       "pos_reply            0.812349         0.708273  \n",
       "pos_like             0.897174         0.762967  \n",
       "pos_retweet          0.814225         0.720157  \n",
       "neg_count            0.929646         0.819565  \n",
       "neg_reply            0.785434         0.657127  \n",
       "neg_like             0.729861         0.610719  \n",
       "neg_retweet          0.618761         0.525318  \n",
       "neutral_count        0.912552         0.809073  \n",
       "neutral_reply        0.949442         0.860451  \n",
       "neutral_like         1.000000         0.881374  \n",
       "neutral_retweet      0.881374         1.000000  "
      ]
     },
     "execution_count": 58,
     "metadata": {},
     "output_type": "execute_result"
    }
   ],
   "source": [
    "from copy import copy\n",
    "# load data\n",
    "x_feat_list = df_tweet.columns[1:-2].values\n",
    "df_x = copy(df_tweet.loc[:, x_feat_list])\n",
    "\n",
    "df_x.cov()\n",
    "# scale normalization\n",
    "df_x_sn = copy(df_x)\n",
    "for col in df_x_sn.columns:\n",
    "    df_x_sn[col] = df_x_sn[col] / df_x_sn[col].std()\n",
    "    \n",
    "# scale normalization ensures \"unit variance\" (each feature has variance = 1)\n",
    "# scale normalization does not ensure resulting features are uncorrelated\n",
    "df_x_sn.cov()"
   ]
  },
  {
   "cell_type": "code",
   "execution_count": 59,
   "id": "02483489",
   "metadata": {},
   "outputs": [
    {
     "name": "stdout",
     "output_type": "stream",
     "text": [
      "2 clusters mean_d is: 15485756258976\n",
      "3 clusters mean_d is: 10797216324317\n",
      "4 clusters mean_d is: 9017496062474\n",
      "5 clusters mean_d is: 7488681653020\n",
      "6 clusters mean_d is: 6738357483727\n",
      "7 clusters mean_d is: 6001317113139\n",
      "8 clusters mean_d is: 5188866140297\n",
      "9 clusters mean_d is: 4823286484050\n",
      "10 clusters mean_d is: 4037538117519\n",
      "11 clusters mean_d is: 3780189802208\n",
      "12 clusters mean_d is: 3438930850540\n",
      "13 clusters mean_d is: 3135570441801\n",
      "14 clusters mean_d is: 2818583083238\n",
      "15 clusters mean_d is: 2528554378536\n",
      "16 clusters mean_d is: 2425425805433\n",
      "17 clusters mean_d is: 2255124666704\n",
      "18 clusters mean_d is: 2131092866844\n",
      "19 clusters mean_d is: 1944659255971\n",
      "20 clusters mean_d is: 1850326985094\n",
      "21 clusters mean_d is: 1734390028775\n",
      "22 clusters mean_d is: 1644456993872\n",
      "23 clusters mean_d is: 1524624795944\n",
      "24 clusters mean_d is: 1470719987729\n",
      "25 clusters mean_d is: 1378480890505\n",
      "26 clusters mean_d is: 1321340231488\n",
      "27 clusters mean_d is: 1266397473158\n",
      "28 clusters mean_d is: 1214587547041\n",
      "29 clusters mean_d is: 1154462036005\n",
      "30 clusters mean_d is: 1127443201644\n"
     ]
    },
    {
     "data": {
      "text/plain": [
       "Text(0, 0.5, 'mean dist^2 to centroid')"
      ]
     },
     "execution_count": 59,
     "metadata": {},
     "output_type": "execute_result"
    },
    {
     "data": {
      "image/png": "[encoded data removed]",
      "text/plain": [
       "<Figure size 432x288 with 1 Axes>"
      ]
     },
     "metadata": {},
     "output_type": "display_data"
    }
   ],
   "source": [
    "from sklearn.cluster import KMeans\n",
    "# keys are k (number of clusters), values are mean_d (mean distance\n",
    "# from each sample to its cluster centroid)\n",
    "mean_d_dict = dict()\n",
    "for n_clusters in range(2, 31):\n",
    "    # fit kmeans\n",
    "    kmeans = KMeans(n_clusters)\n",
    "    kmeans.fit(x)\n",
    "    y = kmeans.predict(x)    \n",
    "        \n",
    "    # compute & store mean distance\n",
    "    mean_d = -kmeans.score(x)\n",
    "    mean_d_dict[n_clusters] = mean_d\n",
    "    print(f'{n_clusters} clusters mean_d is: {mean_d:.0f}')\n",
    "\n",
    "# plot the kmean graph\n",
    "plt.plot(mean_d_dict.keys(), mean_d_dict.values())\n",
    "plt.xlabel('num clusters')\n",
    "plt.ylabel('mean dist^2 to centroid')"
   ]
  },
  {
   "cell_type": "markdown",
   "id": "9d660837",
   "metadata": {},
   "source": [
    "#### BTC Price Data"
   ]
  },
  {
   "cell_type": "code",
   "execution_count": 60,
   "id": "6cc8fcac",
   "metadata": {
    "scrolled": false
   },
   "outputs": [],
   "source": [
    "df_bitcoin = pd.read_csv('coin_Bitcoin.csv',index_col='SNo')"
   ]
  },
  {
   "cell_type": "code",
   "execution_count": 61,
   "id": "1c8f9d11",
   "metadata": {},
   "outputs": [],
   "source": [
    "# load data\n",
    "x_feat_list = df_bitcoin.columns[4:6].values\n",
    "df_x = copy(df_bitcoin.loc[:, x_feat_list])\n",
    "\n",
    "df_x.cov()\n",
    "# scale normalization\n",
    "df_x_sn = copy(df_x)\n",
    "for col in df_x_sn.columns:\n",
    "    df_x_sn[col] = df_x_sn[col] / df_x_sn[col].std()\n",
    "    \n",
    "# scale normalization ensures \"unit variance\" (each feature has variance = 1)\n",
    "# scale normalization does not ensure resulting features are uncorrelated"
   ]
  },
  {
   "cell_type": "code",
   "execution_count": 62,
   "id": "85a33e40",
   "metadata": {
    "scrolled": true
   },
   "outputs": [
    {
     "name": "stdout",
     "output_type": "stream",
     "text": [
      "2 clusters mean_d is: 15485756258976\n",
      "3 clusters mean_d is: 10786398622162\n",
      "4 clusters mean_d is: 9017496062474\n",
      "5 clusters mean_d is: 7449022480498\n",
      "6 clusters mean_d is: 6887507081721\n",
      "7 clusters mean_d is: 6136112716778\n",
      "8 clusters mean_d is: 5275370203079\n",
      "9 clusters mean_d is: 4822317621219\n",
      "10 clusters mean_d is: 4220136615880\n",
      "11 clusters mean_d is: 3638379685890\n",
      "12 clusters mean_d is: 3313146140096\n",
      "13 clusters mean_d is: 3056758652989\n",
      "14 clusters mean_d is: 2801018378790\n",
      "15 clusters mean_d is: 2556823655486\n",
      "16 clusters mean_d is: 2386673624845\n",
      "17 clusters mean_d is: 2279356019569\n",
      "18 clusters mean_d is: 2105352005084\n",
      "19 clusters mean_d is: 2012104102817\n",
      "20 clusters mean_d is: 1840773331586\n",
      "21 clusters mean_d is: 1736601979092\n",
      "22 clusters mean_d is: 1617023658600\n",
      "23 clusters mean_d is: 1535534121009\n",
      "24 clusters mean_d is: 1442987370561\n",
      "25 clusters mean_d is: 1370848817183\n",
      "26 clusters mean_d is: 1312887850328\n",
      "27 clusters mean_d is: 1258087660011\n",
      "28 clusters mean_d is: 1212029754313\n",
      "29 clusters mean_d is: 1165369676669\n",
      "30 clusters mean_d is: 1122197027396\n"
     ]
    },
    {
     "data": {
      "text/plain": [
       "Text(0, 0.5, 'mean dist^2 to centroid')"
      ]
     },
     "execution_count": 62,
     "metadata": {},
     "output_type": "execute_result"
    },
    {
     "data": {
      "image/png": "[encoded data removed]",
      "text/plain": [
       "<Figure size 432x288 with 1 Axes>"
      ]
     },
     "metadata": {},
     "output_type": "display_data"
    }
   ],
   "source": [
    "# keys are k (number of clusters), values are mean_d (mean distance\n",
    "# from each sample to its cluster centroid)\n",
    "mean_d_dict = dict()\n",
    "for n_clusters in range(2, 31):\n",
    "    # fit kmeans\n",
    "    kmeans = KMeans(n_clusters)\n",
    "    kmeans.fit(x)\n",
    "    y = kmeans.predict(x)    \n",
    "        \n",
    "    # compute & store mean distance\n",
    "    mean_d = -kmeans.score(x)\n",
    "    mean_d_dict[n_clusters] = mean_d\n",
    "    print(f'{n_clusters} clusters mean_d is: {mean_d:.0f}')\n",
    "\n",
    "# plot the kmean graph\n",
    "plt.plot(mean_d_dict.keys(), mean_d_dict.values())\n",
    "plt.xlabel('num clusters')\n",
    "plt.ylabel('mean dist^2 to centroid')"
   ]
  },
  {
   "cell_type": "markdown",
   "id": "871a00ad",
   "metadata": {},
   "source": [
    "The graphs of k-means clusters vs. mean dist^2 to centroid appear similar, but this does not necessarily indicate a significant relationship between the datasets."
   ]
  },
  {
   "cell_type": "markdown",
   "id": "ebe26f87",
   "metadata": {},
   "source": [
    "# Discussion\n",
    "\n",
    "<a id='discussion'></a>\n",
    "\n",
    "The project did not succeed in being able to predict changes in Bitcoin's price any better than random chance (Cross validated r^2 < 0 for all regressions).  This could be due to two reasons:\n",
    "\n",
    "1. Our method of analyzing tweet sentiment and aggregating tweet attributes was likely inaccurate.\n",
    "\n",
    "    - Our sentiment analysis tool gave us scalar values for tweet sentiments, and we used this to create binary sentiment variables.\n",
    "    \n",
    "        - This allowed us to easily group tweet attributes, such as likes, across multiple tweets on a single day. However, in simplifying the sentiments in this manner, we may have lost the efficacy of the sentiment analysis tool.\n",
    "    \n",
    "    - Another potential issue is that replies to tweets might actually have the opposite sentiment value of the tweet they are attached to. Controversial tweets tend to have lots of replies of people disagreeing with the tweet, so replies on a controversial positive tweet may represent a negative sentiment, and vice-versa with replies to negative tweets.\n",
    "    \n",
    "    - **For future analyses, we'd suggest that tweet attributes should be aggregated in a manner that takes into account a tweet's scalar sentiment value, but still enables them to be aggregated across multiple tweets**\n",
    "    - **For example, a future analysis might multiply the values of each tweets attributes by the tweet's sentiment value, and then aggregate those values. Ex: tweet[sentiment] = .25, tweet[likes] = 4. Positive_likes += (.25 * 4)**\n",
    "\n",
    "    \n",
    "2. Our tweet data was incomplete/inaccurate\n",
    "    - It's possible that our dataset is missing tweets about Bitcoin, and it especially might be incomplete/faulty before for dates before 2019-05-10.\n",
    "        - As we've mentioned, the graph of total tweets appears highly irregular before this day. This issue should definitely be investigated further before this dataset is used for further analysis.\n",
    "        - Our cross-validated regressions on 2019-05-10 and onwards likely produce such low r^2 scores (such as -5.51 for regression 6) because of their small sample sizes. There are only about 200 rows of data for this timespan, and cross validating means our regressions are trained on even smaller samples.\n",
    "    - It's possible that tweets about cryptocurrency in general, which use words such as \"crypto\" and \"blockchain\", have a significant effect on Bitcoin's price, but this dataset did not include those tweets.\n",
    "    - This dataset includes the count of replies and retweets to each BTC related tweet, but does not include the text of the replies or retweets. These are technically BTC related tweets in their own right (even if they don't include BTC or Bitcoin in their text), and it may be necessary to analyze the sentiment of replies and retweets as well in order to ascertain total sentiment.\n",
    "    - **For future analyses, we'd suggest that Twitter's API be utilized to get recent Twitter data, and that the data be collected in a more complete fashion by including retweet and reply text. However, Twitter likely does not allow unaffiliated people to get thousands of tweets using their API, so perhaps it would be necessary to scrape a represenative sample instead.**\n",
    "\n",
    "***ML Results:***\n",
    "\n",
    "- For all but 7 of our 2400 samples, our decision tree regressor did *not* successfully reduce MSE by a significant amount. Therefore, it is not efficacious in determining the effect of tweet sentiment on change in Bitcoin price.\n",
    "\n",
    "- Unfortunately, because our cross validated linear regressions all yielded negative r^2 scores, the efficacy of the rest of our machine learning models is questionable at best. It is unlikely that our random forest regressor is any more accurate than our linear regressions or decision tree regressor, and this means that our feature importance graph is also probably inaccurate.\n",
    "    \n",
    "\n",
    "Despite these results, *we still believe that Bitcoin related tweets likely affect Bitcoin's price,* for the following two reasons:\n",
    "1. Our r^2 values for our regressions of total_tweets vs. BTC price change were relatively high, with one in particular reaching -0.013.\n",
    "    - It seems likely that if we could accurately analyze some \"hidden\" attribute of these tweets, such as their sentiment or a different metric, we could achieve a positive r^2 value for a linear regression.\n",
    "    - It's also possible that tweets could be used to predict Bitcoin's overall volatility, without trying to predict the direction of price swings.\n",
    "    \n",
    "    \n",
    "2. Anecdotally, it is well known that tweets can significantly impact the prices of other cryptocurrencies. Dogecoin, another cryptocurrency, has had huge spikes in price following tweets by Elon Musk.\n",
    "    - If the tweet of one large influencer can affect the price of a cryptocurrency, it seems likely that a huge population of relatively uninfluential people could affect the price of a cryptocurrency through their overall tweet sentiment (though this would likely produce smaller, more gradual price swings, especially on a high market cap cryptocurrency such as Bitcoin.\n",
    "\n",
    "## Takeaway:\n",
    "Overall, our analysis should not be used to predict the price of Bitcoin or interpret the effect of tweets on Bitcoin's price. Future work in this area should first focus on collecting more \"complete\" and extensive tweet data, and finding a way to aggregate it while retaining the precision of scalar sentiment values."
   ]
  }
 ],
 "metadata": {
  "kernelspec": {
   "display_name": "Python 3 (ipykernel)",
   "language": "python",
   "name": "python3"
  },
  "language_info": {
   "codemirror_mode": {
    "name": "ipython",
    "version": 3
   },
   "file_extension": ".py",
   "mimetype": "text/x-python",
   "name": "python",
   "nbconvert_exporter": "python",
   "pygments_lexer": "ipython3",
   "version": "3.9.7"
  }
 },
 "nbformat": 4,
 "nbformat_minor": 5
}
