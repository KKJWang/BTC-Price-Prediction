{
 "cells": [
  {
   "cell_type": "code",
   "execution_count": 1,
   "id": "c7ab6578",
   "metadata": {},
   "outputs": [],
   "source": [
    "import pandas as pd\n",
    "from sklearn.model_selection import cross_validate\n",
    "from sklearn.linear_model import LinearRegression"
   ]
  },
  {
   "cell_type": "code",
   "execution_count": 2,
   "id": "1623f8f1",
   "metadata": {},
   "outputs": [
    {
     "data": {
      "text/html": [
       "<div>\n",
       "<style scoped>\n",
       "    .dataframe tbody tr th:only-of-type {\n",
       "        vertical-align: middle;\n",
       "    }\n",
       "\n",
       "    .dataframe tbody tr th {\n",
       "        vertical-align: top;\n",
       "    }\n",
       "\n",
       "    .dataframe thead th {\n",
       "        text-align: right;\n",
       "    }\n",
       "</style>\n",
       "<table border=\"1\" class=\"dataframe\">\n",
       "  <thead>\n",
       "    <tr style=\"text-align: right;\">\n",
       "      <th></th>\n",
       "      <th>date</th>\n",
       "      <th>neutral_tweets</th>\n",
       "      <th>neutral_replies</th>\n",
       "      <th>neutral_likes</th>\n",
       "      <th>neutral_retweets</th>\n",
       "      <th>pos_tweets</th>\n",
       "      <th>pos_replies</th>\n",
       "      <th>pos_likes</th>\n",
       "      <th>pos_retweets</th>\n",
       "      <th>neg_tweets</th>\n",
       "      <th>neg_replies</th>\n",
       "      <th>neg_likes</th>\n",
       "      <th>neg_retweets</th>\n",
       "      <th>btc_%change_day</th>\n",
       "      <th>btc_%change_net_day</th>\n",
       "    </tr>\n",
       "  </thead>\n",
       "  <tbody>\n",
       "    <tr>\n",
       "      <th>0</th>\n",
       "      <td>2018-07-17</td>\n",
       "      <td>619</td>\n",
       "      <td>361</td>\n",
       "      <td>4314</td>\n",
       "      <td>2318</td>\n",
       "      <td>4401</td>\n",
       "      <td>193</td>\n",
       "      <td>2442</td>\n",
       "      <td>2105</td>\n",
       "      <td>1770</td>\n",
       "      <td>75</td>\n",
       "      <td>182</td>\n",
       "      <td>1463</td>\n",
       "      <td>-4</td>\n",
       "      <td>-20</td>\n",
       "    </tr>\n",
       "    <tr>\n",
       "      <th>1</th>\n",
       "      <td>2017-01-05</td>\n",
       "      <td>2327</td>\n",
       "      <td>225</td>\n",
       "      <td>1184</td>\n",
       "      <td>1035</td>\n",
       "      <td>4747</td>\n",
       "      <td>207</td>\n",
       "      <td>889</td>\n",
       "      <td>2236</td>\n",
       "      <td>4259</td>\n",
       "      <td>338</td>\n",
       "      <td>1132</td>\n",
       "      <td>371</td>\n",
       "      <td>-14</td>\n",
       "      <td>-4</td>\n",
       "    </tr>\n",
       "    <tr>\n",
       "      <th>2</th>\n",
       "      <td>2017-11-24</td>\n",
       "      <td>2856</td>\n",
       "      <td>330</td>\n",
       "      <td>2623</td>\n",
       "      <td>758</td>\n",
       "      <td>1342</td>\n",
       "      <td>441</td>\n",
       "      <td>651</td>\n",
       "      <td>660</td>\n",
       "      <td>2669</td>\n",
       "      <td>118</td>\n",
       "      <td>1903</td>\n",
       "      <td>198</td>\n",
       "      <td>-21</td>\n",
       "      <td>16</td>\n",
       "    </tr>\n",
       "    <tr>\n",
       "      <th>3</th>\n",
       "      <td>2018-04-27</td>\n",
       "      <td>1397</td>\n",
       "      <td>263</td>\n",
       "      <td>849</td>\n",
       "      <td>2242</td>\n",
       "      <td>1001</td>\n",
       "      <td>67</td>\n",
       "      <td>2265</td>\n",
       "      <td>2488</td>\n",
       "      <td>1720</td>\n",
       "      <td>122</td>\n",
       "      <td>2041</td>\n",
       "      <td>2192</td>\n",
       "      <td>14</td>\n",
       "      <td>-6</td>\n",
       "    </tr>\n",
       "    <tr>\n",
       "      <th>4</th>\n",
       "      <td>2019-03-14</td>\n",
       "      <td>2397</td>\n",
       "      <td>133</td>\n",
       "      <td>1606</td>\n",
       "      <td>1709</td>\n",
       "      <td>2973</td>\n",
       "      <td>114</td>\n",
       "      <td>3256</td>\n",
       "      <td>1049</td>\n",
       "      <td>1183</td>\n",
       "      <td>463</td>\n",
       "      <td>4972</td>\n",
       "      <td>2392</td>\n",
       "      <td>16</td>\n",
       "      <td>1</td>\n",
       "    </tr>\n",
       "  </tbody>\n",
       "</table>\n",
       "</div>"
      ],
      "text/plain": [
       "         date  neutral_tweets  neutral_replies  neutral_likes  \\\n",
       "0  2018-07-17             619              361           4314   \n",
       "1  2017-01-05            2327              225           1184   \n",
       "2  2017-11-24            2856              330           2623   \n",
       "3  2018-04-27            1397              263            849   \n",
       "4  2019-03-14            2397              133           1606   \n",
       "\n",
       "   neutral_retweets  pos_tweets  pos_replies  pos_likes  pos_retweets  \\\n",
       "0              2318        4401          193       2442          2105   \n",
       "1              1035        4747          207        889          2236   \n",
       "2               758        1342          441        651           660   \n",
       "3              2242        1001           67       2265          2488   \n",
       "4              1709        2973          114       3256          1049   \n",
       "\n",
       "   neg_tweets  neg_replies  neg_likes  neg_retweets  btc_%change_day  \\\n",
       "0        1770           75        182          1463               -4   \n",
       "1        4259          338       1132           371              -14   \n",
       "2        2669          118       1903           198              -21   \n",
       "3        1720          122       2041          2192               14   \n",
       "4        1183          463       4972          2392               16   \n",
       "\n",
       "   btc_%change_net_day  \n",
       "0                  -20  \n",
       "1                   -4  \n",
       "2                   16  \n",
       "3                   -6  \n",
       "4                    1  "
      ]
     },
     "execution_count": 2,
     "metadata": {},
     "output_type": "execute_result"
    }
   ],
   "source": [
    "df = pd.read_csv(\"data_aggregate_sample.csv\")\n",
    "df.head()"
   ]
  },
  {
   "cell_type": "code",
   "execution_count": 3,
   "id": "8fb355ba",
   "metadata": {},
   "outputs": [],
   "source": [
    "df = df.drop([\"date\"], axis=1)\n",
    "X = df.drop([\"btc_%change_day\", \"btc_%change_net_day\"], axis=1)\n",
    "y_today = df['btc_%change_day']\n",
    "y_next = df['btc_%change_net_day']\n",
    "\n",
    "features = list(X.columns)"
   ]
  },
  {
   "cell_type": "markdown",
   "id": "7ea3b3a2",
   "metadata": {},
   "source": [
    "# btc_%change_day"
   ]
  },
  {
   "cell_type": "code",
   "execution_count": 4,
   "id": "0234f03f",
   "metadata": {},
   "outputs": [
    {
     "name": "stdout",
     "output_type": "stream",
     "text": [
      "cross validated R2 for btc_%change_day:\n",
      "-0.0420460013705148\n"
     ]
    }
   ],
   "source": [
    "lin = LinearRegression()\n",
    "cv_results = cross_validate(lin, X, y_today, cv=5, scoring=('r2'), return_estimator=True)\n",
    "print(\"cross validated R2 for btc_%change_day:\")\n",
    "print(cv_results['test_score'].mean())"
   ]
  },
  {
   "cell_type": "code",
   "execution_count": 5,
   "id": "5291a104",
   "metadata": {},
   "outputs": [
    {
     "name": "stdout",
     "output_type": "stream",
     "text": [
      "y = (1e-05*neutral_tweets) + (-0.00409*neutral_replies) + (-0.00011*neutral_likes) + (-0.00139*neutral_retweets) + (0.00035*pos_tweets) + (0.00127*pos_replies) + (0.00011*pos_likes) + (0.00019*pos_retweets) + (-0.0002*neg_tweets) + (-0.0007*neg_replies) + (-0.00042*neg_likes) + (0.00047*neg_retweets) + 2.88659\n",
      "\n",
      "y = (0.00053*neutral_tweets) + (-0.00475*neutral_replies) + (0.00026*neutral_likes) + (-0.00054*neutral_retweets) + (-9e-05*pos_tweets) + (0.00304*pos_replies) + (-0.00033*pos_likes) + (-0.00068*pos_retweets) + (-0.00051*neg_tweets) + (-0.00471*neg_replies) + (-0.00024*neg_likes) + (0.00029*neg_retweets) + 4.21744\n",
      "\n",
      "y = (0.00057*neutral_tweets) + (-0.00714*neutral_replies) + (-5e-05*neutral_likes) + (-0.00068*neutral_retweets) + (-0.00022*pos_tweets) + (0.0023*pos_replies) + (-0.00032*pos_likes) + (0.00057*pos_retweets) + (-0.00037*neg_tweets) + (0.001*neg_replies) + (-8e-05*neg_likes) + (0.00033*neg_retweets) + 2.18285\n",
      "\n",
      "y = (0.00039*neutral_tweets) + (-0.00141*neutral_replies) + (-1e-05*neutral_likes) + (-0.0002*neutral_retweets) + (-0.00047*pos_tweets) + (-0.00187*pos_replies) + (-0.00011*pos_likes) + (-0.00048*pos_retweets) + (-0.00041*neg_tweets) + (0.00042*neg_replies) + (-9e-05*neg_likes) + (0.00063*neg_retweets) + 2.16039\n",
      "\n",
      "y = (0.00042*neutral_tweets) + (-0.00547*neutral_replies) + (0.00021*neutral_likes) + (-0.00083*neutral_retweets) + (-0.00018*pos_tweets) + (-0.00496*pos_replies) + (-0.00036*pos_likes) + (-0.00047*pos_retweets) + (-0.00057*neg_tweets) + (-0.00208*neg_replies) + (0.00012*neg_likes) + (0.00067*neg_retweets) + 5.01976\n",
      "\n"
     ]
    }
   ],
   "source": [
    "for model in cv_results['estimator']:\n",
    "    coef = model.coef_\n",
    "    equation = \"y = \"\n",
    "    for i in range(len(features)):\n",
    "        part = \"(\" + str(round(coef[i], 5)) + \"*\" + features[i] + \") + \"\n",
    "        equation += part\n",
    "    equation += str(round(model.intercept_, 5))\n",
    "    print(equation + \"\\n\")"
   ]
  },
  {
   "cell_type": "markdown",
   "id": "c7e32366",
   "metadata": {},
   "source": [
    "# btc_%change_net_day"
   ]
  },
  {
   "cell_type": "code",
   "execution_count": 6,
   "id": "3b3bfef1",
   "metadata": {},
   "outputs": [
    {
     "name": "stdout",
     "output_type": "stream",
     "text": [
      "cross validated R2 for btc_%change_net_day:\n",
      "-0.015575180325285399\n"
     ]
    }
   ],
   "source": [
    "lin = LinearRegression()\n",
    "cv_results = cross_validate(lin, X, y_next, cv=5, scoring=('r2'), return_estimator=True)\n",
    "print(\"cross validated R2 for btc_%change_net_day:\")\n",
    "print(cv_results['test_score'].mean())"
   ]
  },
  {
   "cell_type": "code",
   "execution_count": 7,
   "id": "83f33426",
   "metadata": {},
   "outputs": [
    {
     "name": "stdout",
     "output_type": "stream",
     "text": [
      "y = (0.00067*neutral_tweets) + (0.00113*neutral_replies) + (-5e-05*neutral_likes) + (-0.0002*neutral_retweets) + (0.00032*pos_tweets) + (2e-05*pos_replies) + (0.00047*pos_likes) + (-0.00052*pos_retweets) + (3e-05*neg_tweets) + (-0.00272*neg_replies) + (-0.00017*neg_likes) + (-0.00079*neg_retweets) + -0.74379\n",
      "\n",
      "y = (0.00045*neutral_tweets) + (0.00224*neutral_replies) + (-0.00035*neutral_likes) + (-0.00052*neutral_retweets) + (-7e-05*pos_tweets) + (0.00033*pos_replies) + (0.00034*pos_likes) + (-0.00064*pos_retweets) + (-0.0001*neg_tweets) + (0.00091*neg_replies) + (0.00035*neg_likes) + (0.00016*neg_retweets) + -0.86126\n",
      "\n",
      "y = (0.00031*neutral_tweets) + (0.0013*neutral_replies) + (-0.0002*neutral_likes) + (-0.00047*neutral_retweets) + (0.00012*pos_tweets) + (0.00063*pos_replies) + (0.00061*pos_likes) + (-0.00044*pos_retweets) + (-0.00012*neg_tweets) + (-0.00059*neg_replies) + (0.00023*neg_likes) + (-4e-05*neg_retweets) + -1.60946\n",
      "\n",
      "y = (0.00046*neutral_tweets) + (0.00343*neutral_replies) + (-0.00016*neutral_likes) + (-0.00029*neutral_retweets) + (-0.00011*pos_tweets) + (-0.00097*pos_replies) + (0.00073*pos_likes) + (-0.00092*pos_retweets) + (0.0*neg_tweets) + (-0.00032*neg_replies) + (-1e-05*neg_likes) + (0.00055*neg_retweets) + -2.19753\n",
      "\n",
      "y = (0.00035*neutral_tweets) + (0.00103*neutral_replies) + (-0.00025*neutral_likes) + (-6e-05*neutral_retweets) + (0.00015*pos_tweets) + (-0.00153*pos_replies) + (0.00069*pos_likes) + (-0.00049*pos_retweets) + (-0.00038*neg_tweets) + (-0.00141*neg_replies) + (-6e-05*neg_likes) + (0.00039*neg_retweets) + -0.34759\n",
      "\n"
     ]
    }
   ],
   "source": [
    "for model in cv_results['estimator']:\n",
    "    coef = model.coef_\n",
    "    equation = \"y = \"\n",
    "    for i in range(len(features)):\n",
    "        part = \"(\" + str(round(coef[i], 5)) + \"*\" + features[i] + \") + \"\n",
    "        equation += part\n",
    "    equation += str(round(model.intercept_, 5))\n",
    "    print(equation + \"\\n\")"
   ]
  },
  {
   "cell_type": "code",
   "execution_count": null,
   "id": "dee0c0b3",
   "metadata": {},
   "outputs": [],
   "source": []
  },
  {
   "cell_type": "code",
   "execution_count": null,
   "id": "7d30c830",
   "metadata": {},
   "outputs": [],
   "source": []
  }
 ],
 "metadata": {
  "kernelspec": {
   "display_name": "Python 3 (ipykernel)",
   "language": "python",
   "name": "python3"
  },
  "language_info": {
   "codemirror_mode": {
    "name": "ipython",
    "version": 3
   },
   "file_extension": ".py",
   "mimetype": "text/x-python",
   "name": "python",
   "nbconvert_exporter": "python",
   "pygments_lexer": "ipython3",
   "version": "3.9.12"
  }
 },
 "nbformat": 4,
 "nbformat_minor": 5
}
